{
 "cells": [
  {
   "cell_type": "markdown",
   "metadata": {},
   "source": [
    "# Before your start:\n",
    "- Read the README.md file\n",
    "- Comment as much as you can and use the resources in the README.md file\n",
    "- Happy learning!\n"
   ]
  },
  {
   "cell_type": "code",
   "execution_count": 1,
   "metadata": {
    "ExecuteTime": {
     "end_time": "2019-10-22T19:06:16.136202Z",
     "start_time": "2019-10-22T19:06:14.607219Z"
    }
   },
   "outputs": [],
   "source": [
    "import pandas as pd\n",
    "import numpy as np\n",
    "\n",
    "pd.set_option('display.max_columns', None)\n",
    "pd.set_option('display.max_rows', None)\n",
    "from IPython.core.interactiveshell import InteractiveShell\n",
    "InteractiveShell.ast_node_interactivity = 'all'\n",
    "\n",
    "import matplotlib.pyplot as plt\n",
    "import seaborn as sns\n",
    "%matplotlib inline\n",
    "#%timeit ,  line_profiler, memory_profiler"
   ]
  },
  {
   "cell_type": "markdown",
   "metadata": {},
   "source": [
    "# Challenge 1 -  Explore the Internal Dataset\n",
    "\n",
    "In this lab, we will start off by working with the wine dataset in scikit-learn. We will select the wine dataset and use a clustering algorithm to learn more about the functionalities of this library. \n",
    "\n",
    "We start off by loading the dataset using the `load_wine` function ([documentation](https://scikit-learn.org/stable/modules/generated/sklearn.datasets.load_wine.html)). In the cell below, we will import the function from scikit-learn."
   ]
  },
  {
   "cell_type": "code",
   "execution_count": 2,
   "metadata": {
    "ExecuteTime": {
     "end_time": "2019-10-22T19:06:16.736934Z",
     "start_time": "2019-10-22T19:06:16.139450Z"
    }
   },
   "outputs": [],
   "source": [
    "from sklearn.datasets import load_wine"
   ]
  },
  {
   "cell_type": "markdown",
   "metadata": {},
   "source": [
    "In the cell below, use the `load_wine` function and assign the wine dataset to a variable called `wine`."
   ]
  },
  {
   "cell_type": "code",
   "execution_count": 3,
   "metadata": {
    "ExecuteTime": {
     "end_time": "2019-10-22T19:06:16.748378Z",
     "start_time": "2019-10-22T19:06:16.739539Z"
    }
   },
   "outputs": [],
   "source": [
    "# Your code here:\n",
    "wine = load_wine()"
   ]
  },
  {
   "cell_type": "markdown",
   "metadata": {},
   "source": [
    "In the next step, list the keys of the variable `wine` to examine its contents. Note that the `load_wine` function does not return dataframes. It returns you a Python dictionary."
   ]
  },
  {
   "cell_type": "code",
   "execution_count": 4,
   "metadata": {
    "ExecuteTime": {
     "end_time": "2019-10-22T19:06:16.760396Z",
     "start_time": "2019-10-22T19:06:16.751336Z"
    }
   },
   "outputs": [
    {
     "data": {
      "text/plain": [
       "dict_keys(['data', 'target', 'target_names', 'DESCR', 'feature_names'])"
      ]
     },
     "execution_count": 4,
     "metadata": {},
     "output_type": "execute_result"
    }
   ],
   "source": [
    "# Your code here:\n",
    "wine.keys()"
   ]
  },
  {
   "cell_type": "markdown",
   "metadata": {},
   "source": [
    "Next, list the feature names. These are the different characteristics of the wine. "
   ]
  },
  {
   "cell_type": "code",
   "execution_count": 5,
   "metadata": {
    "ExecuteTime": {
     "end_time": "2019-10-22T19:06:16.771905Z",
     "start_time": "2019-10-22T19:06:16.764068Z"
    }
   },
   "outputs": [
    {
     "data": {
      "text/plain": [
       "['alcohol',\n",
       " 'malic_acid',\n",
       " 'ash',\n",
       " 'alcalinity_of_ash',\n",
       " 'magnesium',\n",
       " 'total_phenols',\n",
       " 'flavanoids',\n",
       " 'nonflavanoid_phenols',\n",
       " 'proanthocyanins',\n",
       " 'color_intensity',\n",
       " 'hue',\n",
       " 'od280/od315_of_diluted_wines',\n",
       " 'proline']"
      ]
     },
     "execution_count": 5,
     "metadata": {},
     "output_type": "execute_result"
    }
   ],
   "source": [
    "# Your code here:\n",
    "wine.feature_names"
   ]
  },
  {
   "cell_type": "markdown",
   "metadata": {},
   "source": [
    "Print the description of the dataset in the cell below using the `DESCR` attribute of the `wine` variable.\n",
    "\n",
    "*Hint: If your output is ill-formatted by displaying linebreaks as `\\n`, it means you are not using the print function.*"
   ]
  },
  {
   "cell_type": "code",
   "execution_count": 6,
   "metadata": {
    "ExecuteTime": {
     "end_time": "2019-10-22T19:06:16.781813Z",
     "start_time": "2019-10-22T19:06:16.775684Z"
    }
   },
   "outputs": [
    {
     "name": "stdout",
     "output_type": "stream",
     "text": [
      ".. _wine_dataset:\n",
      "\n",
      "Wine recognition dataset\n",
      "------------------------\n",
      "\n",
      "**Data Set Characteristics:**\n",
      "\n",
      "    :Number of Instances: 178 (50 in each of three classes)\n",
      "    :Number of Attributes: 13 numeric, predictive attributes and the class\n",
      "    :Attribute Information:\n",
      " \t\t- Alcohol\n",
      " \t\t- Malic acid\n",
      " \t\t- Ash\n",
      "\t\t- Alcalinity of ash  \n",
      " \t\t- Magnesium\n",
      "\t\t- Total phenols\n",
      " \t\t- Flavanoids\n",
      " \t\t- Nonflavanoid phenols\n",
      " \t\t- Proanthocyanins\n",
      "\t\t- Color intensity\n",
      " \t\t- Hue\n",
      " \t\t- OD280/OD315 of diluted wines\n",
      " \t\t- Proline\n",
      "\n",
      "    - class:\n",
      "            - class_0\n",
      "            - class_1\n",
      "            - class_2\n",
      "\t\t\n",
      "    :Summary Statistics:\n",
      "    \n",
      "    ============================= ==== ===== ======= =====\n",
      "                                   Min   Max   Mean     SD\n",
      "    ============================= ==== ===== ======= =====\n",
      "    Alcohol:                      11.0  14.8    13.0   0.8\n",
      "    Malic Acid:                   0.74  5.80    2.34  1.12\n",
      "    Ash:                          1.36  3.23    2.36  0.27\n",
      "    Alcalinity of Ash:            10.6  30.0    19.5   3.3\n",
      "    Magnesium:                    70.0 162.0    99.7  14.3\n",
      "    Total Phenols:                0.98  3.88    2.29  0.63\n",
      "    Flavanoids:                   0.34  5.08    2.03  1.00\n",
      "    Nonflavanoid Phenols:         0.13  0.66    0.36  0.12\n",
      "    Proanthocyanins:              0.41  3.58    1.59  0.57\n",
      "    Colour Intensity:              1.3  13.0     5.1   2.3\n",
      "    Hue:                          0.48  1.71    0.96  0.23\n",
      "    OD280/OD315 of diluted wines: 1.27  4.00    2.61  0.71\n",
      "    Proline:                       278  1680     746   315\n",
      "    ============================= ==== ===== ======= =====\n",
      "\n",
      "    :Missing Attribute Values: None\n",
      "    :Class Distribution: class_0 (59), class_1 (71), class_2 (48)\n",
      "    :Creator: R.A. Fisher\n",
      "    :Donor: Michael Marshall (MARSHALL%PLU@io.arc.nasa.gov)\n",
      "    :Date: July, 1988\n",
      "\n",
      "This is a copy of UCI ML Wine recognition datasets.\n",
      "https://archive.ics.uci.edu/ml/machine-learning-databases/wine/wine.data\n",
      "\n",
      "The data is the results of a chemical analysis of wines grown in the same\n",
      "region in Italy by three different cultivators. There are thirteen different\n",
      "measurements taken for different constituents found in the three types of\n",
      "wine.\n",
      "\n",
      "Original Owners: \n",
      "\n",
      "Forina, M. et al, PARVUS - \n",
      "An Extendible Package for Data Exploration, Classification and Correlation. \n",
      "Institute of Pharmaceutical and Food Analysis and Technologies,\n",
      "Via Brigata Salerno, 16147 Genoa, Italy.\n",
      "\n",
      "Citation:\n",
      "\n",
      "Lichman, M. (2013). UCI Machine Learning Repository\n",
      "[https://archive.ics.uci.edu/ml]. Irvine, CA: University of California,\n",
      "School of Information and Computer Science. \n",
      "\n",
      ".. topic:: References\n",
      "\n",
      "  (1) S. Aeberhard, D. Coomans and O. de Vel, \n",
      "  Comparison of Classifiers in High Dimensional Settings, \n",
      "  Tech. Rep. no. 92-02, (1992), Dept. of Computer Science and Dept. of  \n",
      "  Mathematics and Statistics, James Cook University of North Queensland. \n",
      "  (Also submitted to Technometrics). \n",
      "\n",
      "  The data was used with many others for comparing various \n",
      "  classifiers. The classes are separable, though only RDA \n",
      "  has achieved 100% correct classification. \n",
      "  (RDA : 100%, QDA 99.4%, LDA 98.9%, 1NN 96.1% (z-transformed data)) \n",
      "  (All results using the leave-one-out technique) \n",
      "\n",
      "  (2) S. Aeberhard, D. Coomans and O. de Vel, \n",
      "  \"THE CLASSIFICATION PERFORMANCE OF RDA\" \n",
      "  Tech. Rep. no. 92-01, (1992), Dept. of Computer Science and Dept. of \n",
      "  Mathematics and Statistics, James Cook University of North Queensland. \n",
      "  (Also submitted to Journal of Chemometrics).\n",
      "\n"
     ]
    }
   ],
   "source": [
    "# Your code here:\n",
    "print(wine.DESCR)"
   ]
  },
  {
   "cell_type": "markdown",
   "metadata": {},
   "source": [
    "#### From the description, we see that all columns are numeric. We also know that there is no missing data \n",
    "\n",
    "Let's plot the alcohol content histogram. Recall that we are working with a numpy array and will need to use a matplotlib function to produce a histogram. "
   ]
  },
  {
   "cell_type": "code",
   "execution_count": 7,
   "metadata": {
    "ExecuteTime": {
     "end_time": "2019-10-22T19:06:16.789169Z",
     "start_time": "2019-10-22T19:06:16.784678Z"
    }
   },
   "outputs": [],
   "source": [
    "# imports\n"
   ]
  },
  {
   "cell_type": "code",
   "execution_count": 8,
   "metadata": {
    "ExecuteTime": {
     "end_time": "2019-10-22T19:06:17.117063Z",
     "start_time": "2019-10-22T19:06:16.793219Z"
    }
   },
   "outputs": [
    {
     "data": {
      "text/plain": [
       "<matplotlib.axes._subplots.AxesSubplot at 0x119f459b0>"
      ]
     },
     "execution_count": 8,
     "metadata": {},
     "output_type": "execute_result"
    },
    {
     "data": {
      "image/png": "[encoded data removed]",
      "text/plain": [
       "<Figure size 432x288 with 1 Axes>"
      ]
     },
     "metadata": {
      "needs_background": "light"
     },
     "output_type": "display_data"
    }
   ],
   "source": [
    "# Your code here:\n",
    "wdf = pd.DataFrame(wine.data, columns=wine.feature_names)\n",
    "\n",
    "sns.distplot(wdf.alcohol)"
   ]
  },
  {
   "cell_type": "markdown",
   "metadata": {},
   "source": [
    "# Challenge 2 - Clustering the Internal Dataset\n",
    "\n",
    "In this portion of the lab, we will cluster the data to find common traits between the different wines. We will use the k-means clustering algorithm to achieve this goal.\n",
    "\n",
    "#### We start by importing k-means from scikit-learn and then proceed to create 4 clusters."
   ]
  },
  {
   "cell_type": "code",
   "execution_count": 9,
   "metadata": {
    "ExecuteTime": {
     "end_time": "2019-10-22T19:06:17.257435Z",
     "start_time": "2019-10-22T19:06:17.121379Z"
    }
   },
   "outputs": [],
   "source": [
    "# imports\n",
    "from sklearn.cluster import KMeans\n",
    "from sklearn.metrics import accuracy_score,confusion_matrix\n"
   ]
  },
  {
   "cell_type": "code",
   "execution_count": 10,
   "metadata": {
    "ExecuteTime": {
     "end_time": "2019-10-22T19:06:17.303884Z",
     "start_time": "2019-10-22T19:06:17.259804Z"
    }
   },
   "outputs": [],
   "source": [
    "# Your code here:\n",
    "kmeans = KMeans(n_clusters=4)\n",
    "wdf['labels'] = kmeans.fit_predict(wdf)"
   ]
  },
  {
   "cell_type": "markdown",
   "metadata": {},
   "source": [
    "#### Print the cluster labels."
   ]
  },
  {
   "cell_type": "code",
   "execution_count": 11,
   "metadata": {
    "ExecuteTime": {
     "end_time": "2019-10-22T19:06:17.318862Z",
     "start_time": "2019-10-22T19:06:17.306632Z"
    }
   },
   "outputs": [
    {
     "data": {
      "text/plain": [
       "0    66\n",
       "2    57\n",
       "3    32\n",
       "1    23\n",
       "Name: labels, dtype: int64"
      ]
     },
     "execution_count": 11,
     "metadata": {},
     "output_type": "execute_result"
    }
   ],
   "source": [
    "# Your code here:\n",
    "wdf['labels'].value_counts()"
   ]
  },
  {
   "cell_type": "markdown",
   "metadata": {},
   "source": [
    "#### Compute the size of each cluster. This can be done by counting the number of occurrences of each unique label in the list above.\n",
    "\n",
    "Which is the largest cluster of the 4?"
   ]
  },
  {
   "cell_type": "code",
   "execution_count": 12,
   "metadata": {
    "ExecuteTime": {
     "end_time": "2019-10-22T19:06:17.335790Z",
     "start_time": "2019-10-22T19:06:17.322244Z"
    }
   },
   "outputs": [
    {
     "data": {
      "text/plain": [
       "0    66\n",
       "2    57\n",
       "3    32\n",
       "1    23\n",
       "Name: labels, dtype: int64"
      ]
     },
     "execution_count": 12,
     "metadata": {},
     "output_type": "execute_result"
    }
   ],
   "source": [
    "# Your code here:\n",
    "wdf['labels'].value_counts()"
   ]
  },
  {
   "cell_type": "code",
   "execution_count": 13,
   "metadata": {
    "ExecuteTime": {
     "end_time": "2019-10-22T19:06:17.343103Z",
     "start_time": "2019-10-22T19:06:17.338822Z"
    }
   },
   "outputs": [],
   "source": [
    "# Your answer here:\n",
    "# cluster 0"
   ]
  },
  {
   "cell_type": "markdown",
   "metadata": {},
   "source": [
    "#### Inspect the shape of `wine['data']`"
   ]
  },
  {
   "cell_type": "code",
   "execution_count": 14,
   "metadata": {
    "ExecuteTime": {
     "end_time": "2019-10-22T19:06:17.355176Z",
     "start_time": "2019-10-22T19:06:17.346507Z"
    }
   },
   "outputs": [
    {
     "data": {
      "text/plain": [
       "(178, 13)"
      ]
     },
     "execution_count": 14,
     "metadata": {},
     "output_type": "execute_result"
    }
   ],
   "source": [
    "# Your code here:\n",
    "wine['data'].shape"
   ]
  },
  {
   "cell_type": "markdown",
   "metadata": {},
   "source": [
    "#### Inspect the first 5 records in `wine['data']`"
   ]
  },
  {
   "cell_type": "code",
   "execution_count": 15,
   "metadata": {
    "ExecuteTime": {
     "end_time": "2019-10-22T19:06:17.388884Z",
     "start_time": "2019-10-22T19:06:17.357517Z"
    }
   },
   "outputs": [
    {
     "data": {
      "text/html": [
       "<div>\n",
       "<style scoped>\n",
       "    .dataframe tbody tr th:only-of-type {\n",
       "        vertical-align: middle;\n",
       "    }\n",
       "\n",
       "    .dataframe tbody tr th {\n",
       "        vertical-align: top;\n",
       "    }\n",
       "\n",
       "    .dataframe thead th {\n",
       "        text-align: right;\n",
       "    }\n",
       "</style>\n",
       "<table border=\"1\" class=\"dataframe\">\n",
       "  <thead>\n",
       "    <tr style=\"text-align: right;\">\n",
       "      <th></th>\n",
       "      <th>alcohol</th>\n",
       "      <th>malic_acid</th>\n",
       "      <th>ash</th>\n",
       "      <th>alcalinity_of_ash</th>\n",
       "      <th>magnesium</th>\n",
       "      <th>total_phenols</th>\n",
       "      <th>flavanoids</th>\n",
       "      <th>nonflavanoid_phenols</th>\n",
       "      <th>proanthocyanins</th>\n",
       "      <th>color_intensity</th>\n",
       "      <th>hue</th>\n",
       "      <th>od280/od315_of_diluted_wines</th>\n",
       "      <th>proline</th>\n",
       "      <th>labels</th>\n",
       "    </tr>\n",
       "  </thead>\n",
       "  <tbody>\n",
       "    <tr>\n",
       "      <th>0</th>\n",
       "      <td>14.23</td>\n",
       "      <td>1.71</td>\n",
       "      <td>2.43</td>\n",
       "      <td>15.6</td>\n",
       "      <td>127.0</td>\n",
       "      <td>2.80</td>\n",
       "      <td>3.06</td>\n",
       "      <td>0.28</td>\n",
       "      <td>2.29</td>\n",
       "      <td>5.64</td>\n",
       "      <td>1.04</td>\n",
       "      <td>3.92</td>\n",
       "      <td>1065.0</td>\n",
       "      <td>3</td>\n",
       "    </tr>\n",
       "    <tr>\n",
       "      <th>1</th>\n",
       "      <td>13.20</td>\n",
       "      <td>1.78</td>\n",
       "      <td>2.14</td>\n",
       "      <td>11.2</td>\n",
       "      <td>100.0</td>\n",
       "      <td>2.65</td>\n",
       "      <td>2.76</td>\n",
       "      <td>0.26</td>\n",
       "      <td>1.28</td>\n",
       "      <td>4.38</td>\n",
       "      <td>1.05</td>\n",
       "      <td>3.40</td>\n",
       "      <td>1050.0</td>\n",
       "      <td>3</td>\n",
       "    </tr>\n",
       "    <tr>\n",
       "      <th>2</th>\n",
       "      <td>13.16</td>\n",
       "      <td>2.36</td>\n",
       "      <td>2.67</td>\n",
       "      <td>18.6</td>\n",
       "      <td>101.0</td>\n",
       "      <td>2.80</td>\n",
       "      <td>3.24</td>\n",
       "      <td>0.30</td>\n",
       "      <td>2.81</td>\n",
       "      <td>5.68</td>\n",
       "      <td>1.03</td>\n",
       "      <td>3.17</td>\n",
       "      <td>1185.0</td>\n",
       "      <td>1</td>\n",
       "    </tr>\n",
       "    <tr>\n",
       "      <th>3</th>\n",
       "      <td>14.37</td>\n",
       "      <td>1.95</td>\n",
       "      <td>2.50</td>\n",
       "      <td>16.8</td>\n",
       "      <td>113.0</td>\n",
       "      <td>3.85</td>\n",
       "      <td>3.49</td>\n",
       "      <td>0.24</td>\n",
       "      <td>2.18</td>\n",
       "      <td>7.80</td>\n",
       "      <td>0.86</td>\n",
       "      <td>3.45</td>\n",
       "      <td>1480.0</td>\n",
       "      <td>1</td>\n",
       "    </tr>\n",
       "    <tr>\n",
       "      <th>4</th>\n",
       "      <td>13.24</td>\n",
       "      <td>2.59</td>\n",
       "      <td>2.87</td>\n",
       "      <td>21.0</td>\n",
       "      <td>118.0</td>\n",
       "      <td>2.80</td>\n",
       "      <td>2.69</td>\n",
       "      <td>0.39</td>\n",
       "      <td>1.82</td>\n",
       "      <td>4.32</td>\n",
       "      <td>1.04</td>\n",
       "      <td>2.93</td>\n",
       "      <td>735.0</td>\n",
       "      <td>2</td>\n",
       "    </tr>\n",
       "  </tbody>\n",
       "</table>\n",
       "</div>"
      ],
      "text/plain": [
       "   alcohol  malic_acid   ash  alcalinity_of_ash  magnesium  total_phenols  \\\n",
       "0    14.23        1.71  2.43               15.6      127.0           2.80   \n",
       "1    13.20        1.78  2.14               11.2      100.0           2.65   \n",
       "2    13.16        2.36  2.67               18.6      101.0           2.80   \n",
       "3    14.37        1.95  2.50               16.8      113.0           3.85   \n",
       "4    13.24        2.59  2.87               21.0      118.0           2.80   \n",
       "\n",
       "   flavanoids  nonflavanoid_phenols  proanthocyanins  color_intensity   hue  \\\n",
       "0        3.06                  0.28             2.29             5.64  1.04   \n",
       "1        2.76                  0.26             1.28             4.38  1.05   \n",
       "2        3.24                  0.30             2.81             5.68  1.03   \n",
       "3        3.49                  0.24             2.18             7.80  0.86   \n",
       "4        2.69                  0.39             1.82             4.32  1.04   \n",
       "\n",
       "   od280/od315_of_diluted_wines  proline  labels  \n",
       "0                          3.92   1065.0       3  \n",
       "1                          3.40   1050.0       3  \n",
       "2                          3.17   1185.0       1  \n",
       "3                          3.45   1480.0       1  \n",
       "4                          2.93    735.0       2  "
      ]
     },
     "execution_count": 15,
     "metadata": {},
     "output_type": "execute_result"
    }
   ],
   "source": [
    "# Your code here:\n",
    "wdf.head()"
   ]
  },
  {
   "cell_type": "markdown",
   "metadata": {},
   "source": [
    "You now know the data object is a 2-dimensional array in which there are 178 rows and 13 columns. Each row is a data record and each column is a feature.\n",
    "\n",
    "#### What is the average ash content for each cluster? \n",
    "\n",
    "*Hints:* \n",
    "\n",
    "* *Ash* is the 3rd column.\n",
    "\n",
    "* The data object is not a Pandas dataframe so you can't apply `pandas.DataFrame.groupby`. Instead, you can use `np.average`."
   ]
  },
  {
   "cell_type": "code",
   "execution_count": 16,
   "metadata": {
    "ExecuteTime": {
     "end_time": "2019-10-22T19:06:17.416247Z",
     "start_time": "2019-10-22T19:06:17.392160Z"
    }
   },
   "outputs": [
    {
     "data": {
      "text/html": [
       "<div>\n",
       "<style scoped>\n",
       "    .dataframe tbody tr th:only-of-type {\n",
       "        vertical-align: middle;\n",
       "    }\n",
       "\n",
       "    .dataframe tbody tr th {\n",
       "        vertical-align: top;\n",
       "    }\n",
       "\n",
       "    .dataframe thead th {\n",
       "        text-align: right;\n",
       "    }\n",
       "</style>\n",
       "<table border=\"1\" class=\"dataframe\">\n",
       "  <thead>\n",
       "    <tr style=\"text-align: right;\">\n",
       "      <th></th>\n",
       "      <th>alcohol</th>\n",
       "      <th>malic_acid</th>\n",
       "      <th>ash</th>\n",
       "      <th>alcalinity_of_ash</th>\n",
       "      <th>magnesium</th>\n",
       "      <th>total_phenols</th>\n",
       "      <th>flavanoids</th>\n",
       "      <th>nonflavanoid_phenols</th>\n",
       "      <th>proanthocyanins</th>\n",
       "      <th>color_intensity</th>\n",
       "      <th>hue</th>\n",
       "      <th>od280/od315_of_diluted_wines</th>\n",
       "      <th>proline</th>\n",
       "    </tr>\n",
       "    <tr>\n",
       "      <th>labels</th>\n",
       "      <th></th>\n",
       "      <th></th>\n",
       "      <th></th>\n",
       "      <th></th>\n",
       "      <th></th>\n",
       "      <th></th>\n",
       "      <th></th>\n",
       "      <th></th>\n",
       "      <th></th>\n",
       "      <th></th>\n",
       "      <th></th>\n",
       "      <th></th>\n",
       "      <th></th>\n",
       "    </tr>\n",
       "  </thead>\n",
       "  <tbody>\n",
       "    <tr>\n",
       "      <th>0</th>\n",
       "      <td>12.504242</td>\n",
       "      <td>2.443182</td>\n",
       "      <td>2.283788</td>\n",
       "      <td>20.777273</td>\n",
       "      <td>92.469697</td>\n",
       "      <td>2.073333</td>\n",
       "      <td>1.795455</td>\n",
       "      <td>0.384697</td>\n",
       "      <td>1.471818</td>\n",
       "      <td>4.072424</td>\n",
       "      <td>0.946212</td>\n",
       "      <td>2.504848</td>\n",
       "      <td>452.545455</td>\n",
       "    </tr>\n",
       "    <tr>\n",
       "      <th>1</th>\n",
       "      <td>13.860000</td>\n",
       "      <td>1.793913</td>\n",
       "      <td>2.506957</td>\n",
       "      <td>17.073913</td>\n",
       "      <td>106.000000</td>\n",
       "      <td>2.943043</td>\n",
       "      <td>3.110870</td>\n",
       "      <td>0.298696</td>\n",
       "      <td>1.926087</td>\n",
       "      <td>6.260000</td>\n",
       "      <td>1.100000</td>\n",
       "      <td>3.035652</td>\n",
       "      <td>1338.565217</td>\n",
       "    </tr>\n",
       "    <tr>\n",
       "      <th>2</th>\n",
       "      <td>12.932807</td>\n",
       "      <td>2.661930</td>\n",
       "      <td>2.403158</td>\n",
       "      <td>19.980702</td>\n",
       "      <td>101.842105</td>\n",
       "      <td>2.049123</td>\n",
       "      <td>1.463158</td>\n",
       "      <td>0.401930</td>\n",
       "      <td>1.433509</td>\n",
       "      <td>5.753333</td>\n",
       "      <td>0.865088</td>\n",
       "      <td>2.296316</td>\n",
       "      <td>697.087719</td>\n",
       "    </tr>\n",
       "    <tr>\n",
       "      <th>3</th>\n",
       "      <td>13.527500</td>\n",
       "      <td>1.925938</td>\n",
       "      <td>2.370937</td>\n",
       "      <td>17.725000</td>\n",
       "      <td>106.500000</td>\n",
       "      <td>2.725000</td>\n",
       "      <td>2.742500</td>\n",
       "      <td>0.288750</td>\n",
       "      <td>1.875938</td>\n",
       "      <td>4.988750</td>\n",
       "      <td>1.042687</td>\n",
       "      <td>3.089062</td>\n",
       "      <td>1017.437500</td>\n",
       "    </tr>\n",
       "  </tbody>\n",
       "</table>\n",
       "</div>"
      ],
      "text/plain": [
       "          alcohol  malic_acid       ash  alcalinity_of_ash   magnesium  \\\n",
       "labels                                                                   \n",
       "0       12.504242    2.443182  2.283788          20.777273   92.469697   \n",
       "1       13.860000    1.793913  2.506957          17.073913  106.000000   \n",
       "2       12.932807    2.661930  2.403158          19.980702  101.842105   \n",
       "3       13.527500    1.925938  2.370937          17.725000  106.500000   \n",
       "\n",
       "        total_phenols  flavanoids  nonflavanoid_phenols  proanthocyanins  \\\n",
       "labels                                                                     \n",
       "0            2.073333    1.795455              0.384697         1.471818   \n",
       "1            2.943043    3.110870              0.298696         1.926087   \n",
       "2            2.049123    1.463158              0.401930         1.433509   \n",
       "3            2.725000    2.742500              0.288750         1.875938   \n",
       "\n",
       "        color_intensity       hue  od280/od315_of_diluted_wines      proline  \n",
       "labels                                                                        \n",
       "0              4.072424  0.946212                      2.504848   452.545455  \n",
       "1              6.260000  1.100000                      3.035652  1338.565217  \n",
       "2              5.753333  0.865088                      2.296316   697.087719  \n",
       "3              4.988750  1.042687                      3.089062  1017.437500  "
      ]
     },
     "execution_count": 16,
     "metadata": {},
     "output_type": "execute_result"
    }
   ],
   "source": [
    "# Your code here:\n",
    "wdf.groupby('labels').mean()"
   ]
  },
  {
   "cell_type": "markdown",
   "metadata": {},
   "source": [
    "# Challenge 3 - Load and Explore an External Dataset\n",
    "\n",
    "We will now load an external dataset using Pandas and use scikit learn to explore the data. In this portion of the lab, we will use a [patient dataset from Kaggle](https://www.kaggle.com/miles99/patient-admission-dataset-for-learning-data-mining). "
   ]
  },
  {
   "cell_type": "code",
   "execution_count": 17,
   "metadata": {
    "ExecuteTime": {
     "end_time": "2019-10-22T19:06:17.444609Z",
     "start_time": "2019-10-22T19:06:17.421562Z"
    }
   },
   "outputs": [],
   "source": [
    "\n",
    "patient = pd.read_csv(\"../data/patient-admission-dataset-for-learning-data-mining.csv\")\n"
   ]
  },
  {
   "cell_type": "markdown",
   "metadata": {},
   "source": [
    "In the next cell, print the first five rows of the data using the `head()` function."
   ]
  },
  {
   "cell_type": "code",
   "execution_count": 18,
   "metadata": {
    "ExecuteTime": {
     "end_time": "2019-10-22T19:06:17.475502Z",
     "start_time": "2019-10-22T19:06:17.447584Z"
    }
   },
   "outputs": [
    {
     "data": {
      "text/html": [
       "<div>\n",
       "<style scoped>\n",
       "    .dataframe tbody tr th:only-of-type {\n",
       "        vertical-align: middle;\n",
       "    }\n",
       "\n",
       "    .dataframe tbody tr th {\n",
       "        vertical-align: top;\n",
       "    }\n",
       "\n",
       "    .dataframe thead th {\n",
       "        text-align: right;\n",
       "    }\n",
       "</style>\n",
       "<table border=\"1\" class=\"dataframe\">\n",
       "  <thead>\n",
       "    <tr style=\"text-align: right;\">\n",
       "      <th></th>\n",
       "      <th>id</th>\n",
       "      <th>patient_name</th>\n",
       "      <th>patient_email</th>\n",
       "      <th>doctor_phone</th>\n",
       "      <th>patient_gender</th>\n",
       "      <th>patient_dob</th>\n",
       "      <th>patient_diabetic</th>\n",
       "      <th>patient_allergic</th>\n",
       "      <th>patient_weight_kg</th>\n",
       "      <th>patient_height_sm</th>\n",
       "      <th>patient_nhs_number</th>\n",
       "      <th>doctor_name</th>\n",
       "      <th>appointment_date</th>\n",
       "      <th>patient_show</th>\n",
       "      <th>is_regular_visit</th>\n",
       "      <th>prescribed_medicines</th>\n",
       "      <th>diagnosis</th>\n",
       "    </tr>\n",
       "  </thead>\n",
       "  <tbody>\n",
       "    <tr>\n",
       "      <th>0</th>\n",
       "      <td>1</td>\n",
       "      <td>Celestyna Dillimore</td>\n",
       "      <td>cdillimore0@dion.ne.jp</td>\n",
       "      <td>674-914-1212</td>\n",
       "      <td>Female</td>\n",
       "      <td>10/18/2018</td>\n",
       "      <td>False</td>\n",
       "      <td>True</td>\n",
       "      <td>59</td>\n",
       "      <td>176</td>\n",
       "      <td>8.200152e+09</td>\n",
       "      <td>Sarena Waliszek</td>\n",
       "      <td>5/1/2018</td>\n",
       "      <td>True</td>\n",
       "      <td>True</td>\n",
       "      <td>triamcinolone acetonide</td>\n",
       "      <td>I669</td>\n",
       "    </tr>\n",
       "    <tr>\n",
       "      <th>1</th>\n",
       "      <td>2</td>\n",
       "      <td>Meta Michieli</td>\n",
       "      <td>mmichieli1@loc.gov</td>\n",
       "      <td>172-580-3586</td>\n",
       "      <td>Female</td>\n",
       "      <td>2/8/2018</td>\n",
       "      <td>False</td>\n",
       "      <td>True</td>\n",
       "      <td>77</td>\n",
       "      <td>186</td>\n",
       "      <td>NaN</td>\n",
       "      <td>Farris Robinet</td>\n",
       "      <td>12/7/2017</td>\n",
       "      <td>True</td>\n",
       "      <td>True</td>\n",
       "      <td>NaN</td>\n",
       "      <td>NaN</td>\n",
       "    </tr>\n",
       "    <tr>\n",
       "      <th>2</th>\n",
       "      <td>3</td>\n",
       "      <td>Cordie Sancto</td>\n",
       "      <td>csancto2@cafepress.com</td>\n",
       "      <td>794-222-5085</td>\n",
       "      <td>Female</td>\n",
       "      <td>10/9/2018</td>\n",
       "      <td>True</td>\n",
       "      <td>True</td>\n",
       "      <td>90</td>\n",
       "      <td>177</td>\n",
       "      <td>6.145594e+09</td>\n",
       "      <td>Kaspar Spitaro</td>\n",
       "      <td>10/5/2018</td>\n",
       "      <td>False</td>\n",
       "      <td>False</td>\n",
       "      <td>NaN</td>\n",
       "      <td>NaN</td>\n",
       "    </tr>\n",
       "    <tr>\n",
       "      <th>3</th>\n",
       "      <td>4</td>\n",
       "      <td>Josh De Ambrosis</td>\n",
       "      <td>jde3@amazon.co.jp</td>\n",
       "      <td>856-540-5195</td>\n",
       "      <td>Male</td>\n",
       "      <td>9/10/2018</td>\n",
       "      <td>True</td>\n",
       "      <td>True</td>\n",
       "      <td>70</td>\n",
       "      <td>150</td>\n",
       "      <td>NaN</td>\n",
       "      <td>Rafferty Fowls</td>\n",
       "      <td>10/21/2018</td>\n",
       "      <td>False</td>\n",
       "      <td>True</td>\n",
       "      <td>NaN</td>\n",
       "      <td>NaN</td>\n",
       "    </tr>\n",
       "    <tr>\n",
       "      <th>4</th>\n",
       "      <td>5</td>\n",
       "      <td>Delinda Alfonsini</td>\n",
       "      <td>dalfonsini4@opensource.org</td>\n",
       "      <td>938-978-1131</td>\n",
       "      <td>Female</td>\n",
       "      <td>2/26/2018</td>\n",
       "      <td>False</td>\n",
       "      <td>True</td>\n",
       "      <td>82</td>\n",
       "      <td>140</td>\n",
       "      <td>4.804758e+08</td>\n",
       "      <td>Glenna MacNeachtain</td>\n",
       "      <td>11/15/2018</td>\n",
       "      <td>False</td>\n",
       "      <td>False</td>\n",
       "      <td>NaN</td>\n",
       "      <td>NaN</td>\n",
       "    </tr>\n",
       "  </tbody>\n",
       "</table>\n",
       "</div>"
      ],
      "text/plain": [
       "   id         patient_name               patient_email  doctor_phone  \\\n",
       "0   1  Celestyna Dillimore      cdillimore0@dion.ne.jp  674-914-1212   \n",
       "1   2        Meta Michieli          mmichieli1@loc.gov  172-580-3586   \n",
       "2   3        Cordie Sancto      csancto2@cafepress.com  794-222-5085   \n",
       "3   4     Josh De Ambrosis           jde3@amazon.co.jp  856-540-5195   \n",
       "4   5    Delinda Alfonsini  dalfonsini4@opensource.org  938-978-1131   \n",
       "\n",
       "  patient_gender patient_dob  patient_diabetic  patient_allergic  \\\n",
       "0         Female  10/18/2018             False              True   \n",
       "1         Female    2/8/2018             False              True   \n",
       "2         Female   10/9/2018              True              True   \n",
       "3           Male   9/10/2018              True              True   \n",
       "4         Female   2/26/2018             False              True   \n",
       "\n",
       "   patient_weight_kg  patient_height_sm  patient_nhs_number  \\\n",
       "0                 59                176        8.200152e+09   \n",
       "1                 77                186                 NaN   \n",
       "2                 90                177        6.145594e+09   \n",
       "3                 70                150                 NaN   \n",
       "4                 82                140        4.804758e+08   \n",
       "\n",
       "           doctor_name appointment_date  patient_show  is_regular_visit  \\\n",
       "0      Sarena Waliszek         5/1/2018          True              True   \n",
       "1       Farris Robinet        12/7/2017          True              True   \n",
       "2       Kaspar Spitaro        10/5/2018         False             False   \n",
       "3       Rafferty Fowls       10/21/2018         False              True   \n",
       "4  Glenna MacNeachtain       11/15/2018         False             False   \n",
       "\n",
       "      prescribed_medicines diagnosis  \n",
       "0  triamcinolone acetonide      I669  \n",
       "1                      NaN       NaN  \n",
       "2                      NaN       NaN  \n",
       "3                      NaN       NaN  \n",
       "4                      NaN       NaN  "
      ]
     },
     "execution_count": 18,
     "metadata": {},
     "output_type": "execute_result"
    }
   ],
   "source": [
    "# Your code here:\n",
    "patient.head()"
   ]
  },
  {
   "cell_type": "markdown",
   "metadata": {},
   "source": [
    "Next, print the column types and check which columns have been misclassified by pandas."
   ]
  },
  {
   "cell_type": "code",
   "execution_count": 19,
   "metadata": {
    "ExecuteTime": {
     "end_time": "2019-10-22T19:06:17.491987Z",
     "start_time": "2019-10-22T19:06:17.478305Z"
    }
   },
   "outputs": [
    {
     "name": "stdout",
     "output_type": "stream",
     "text": [
      "<class 'pandas.core.frame.DataFrame'>\n",
      "RangeIndex: 1000 entries, 0 to 999\n",
      "Data columns (total 17 columns):\n",
      "id                      1000 non-null int64\n",
      "patient_name            1000 non-null object\n",
      "patient_email           1000 non-null object\n",
      "doctor_phone            1000 non-null object\n",
      "patient_gender          1000 non-null object\n",
      "patient_dob             1000 non-null object\n",
      "patient_diabetic        1000 non-null bool\n",
      "patient_allergic        1000 non-null bool\n",
      "patient_weight_kg       1000 non-null int64\n",
      "patient_height_sm       1000 non-null int64\n",
      "patient_nhs_number      796 non-null float64\n",
      "doctor_name             942 non-null object\n",
      "appointment_date        1000 non-null object\n",
      "patient_show            1000 non-null bool\n",
      "is_regular_visit        1000 non-null bool\n",
      "prescribed_medicines    512 non-null object\n",
      "diagnosis               512 non-null object\n",
      "dtypes: bool(4), float64(1), int64(3), object(9)\n",
      "memory usage: 105.5+ KB\n"
     ]
    }
   ],
   "source": [
    "# Your code here:\n",
    "patient.info()"
   ]
  },
  {
   "cell_type": "markdown",
   "metadata": {},
   "source": [
    "#### We can see that none of the date columns have been correctly classified. Also, some columns contain qualitative data that can be dropped.\n",
    "\n",
    "First, transform the `patient_dob` and `appointment_date` columns to datetime using the `pd.to_datetime` function."
   ]
  },
  {
   "cell_type": "code",
   "execution_count": 20,
   "metadata": {
    "ExecuteTime": {
     "end_time": "2019-10-22T19:06:17.683904Z",
     "start_time": "2019-10-22T19:06:17.494717Z"
    }
   },
   "outputs": [],
   "source": [
    "# Your code here:\n",
    "patient.patient_dob = pd.to_datetime(patient.patient_dob)\n",
    "patient.appointment_date = pd.to_datetime(patient.appointment_date)"
   ]
  },
  {
   "cell_type": "markdown",
   "metadata": {},
   "source": [
    "Next, drop the `id`, `patient_name`, `patient_email`, `patient_nhs_number`, and `doctor_phone` columns. These are not quantitative columns and will not contribute to our analysis."
   ]
  },
  {
   "cell_type": "code",
   "execution_count": 21,
   "metadata": {
    "ExecuteTime": {
     "end_time": "2019-10-22T19:06:17.695738Z",
     "start_time": "2019-10-22T19:06:17.686088Z"
    }
   },
   "outputs": [],
   "source": [
    "# Your code here:\n",
    "drop=['id', 'patient_name', 'patient_email', 'patient_nhs_number','doctor_phone']\n",
    "patient = patient.drop(drop, axis=1)"
   ]
  },
  {
   "cell_type": "markdown",
   "metadata": {},
   "source": [
    "Now we work on the missing data. Most ML algorithms will not perform as intended if there are missing data.\n",
    "\n",
    "In the cell below, count how many rows contain missing data in each column. You should see three columns contain missing data:\n",
    "\n",
    "* `doctor_name`: 58 missing data\n",
    "* `prescribed_medicines`: 488 missing data\n",
    "* `diagnosis`: 488 missing data"
   ]
  },
  {
   "cell_type": "code",
   "execution_count": 22,
   "metadata": {
    "ExecuteTime": {
     "end_time": "2019-10-22T19:06:17.711374Z",
     "start_time": "2019-10-22T19:06:17.698116Z"
    }
   },
   "outputs": [
    {
     "data": {
      "text/plain": [
       "patient_gender            0\n",
       "patient_dob               0\n",
       "patient_diabetic          0\n",
       "patient_allergic          0\n",
       "patient_weight_kg         0\n",
       "patient_height_sm         0\n",
       "doctor_name              58\n",
       "appointment_date          0\n",
       "patient_show              0\n",
       "is_regular_visit          0\n",
       "prescribed_medicines    488\n",
       "diagnosis               488\n",
       "dtype: int64"
      ]
     },
     "execution_count": 22,
     "metadata": {},
     "output_type": "execute_result"
    }
   ],
   "source": [
    "# Your code here:\n",
    "patient.isna().sum()"
   ]
  },
  {
   "cell_type": "markdown",
   "metadata": {},
   "source": [
    "The main issues are found in the `prescribed_medicines` and `diagnosis` columns. Can we simply drop these rows?\n",
    "\n",
    "The answer is not yet. Because when there are missing data in these columns, it doesn't mean the data records are broken. Instead, it means no medication was prescribed and no diagnosis was recorded. Therefore, once we fill in the missing data these columns will be fine. But we'll revisit these columns and decide whether we will eventually drop them when we look at how many unique values are there in these categorical columns.  \n",
    "\n",
    "For the `prescribed_medicines` column, fill the missing values with the value `no prescription`. For the `diagnosis` column, fill the missing values with `no diagnosis`.\n",
    "\n",
    "*Hint: Use [`pandas.DataFrame.fillna`](https://pandas.pydata.org/pandas-docs/stable/generated/pandas.DataFrame.fillna.html).*"
   ]
  },
  {
   "cell_type": "code",
   "execution_count": 23,
   "metadata": {
    "ExecuteTime": {
     "end_time": "2019-10-22T19:06:17.738830Z",
     "start_time": "2019-10-22T19:06:17.721721Z"
    }
   },
   "outputs": [],
   "source": [
    "# Your code here:\n",
    "\n",
    "patient[['prescribed_medicines']]= patient[['prescribed_medicines']].fillna('no prescription')\n",
    "patient[['diagnosis']]= patient[['diagnosis']].fillna('no diagnosis')"
   ]
  },
  {
   "cell_type": "markdown",
   "metadata": {},
   "source": [
    "How about `doctor_name`? Since a doctor visit without a doctor name might not be meaningful, we will drop these rows."
   ]
  },
  {
   "cell_type": "code",
   "execution_count": 24,
   "metadata": {
    "ExecuteTime": {
     "end_time": "2019-10-22T19:06:17.751722Z",
     "start_time": "2019-10-22T19:06:17.742330Z"
    }
   },
   "outputs": [],
   "source": [
    "# Your code here:\n",
    "\n",
    "patient = patient.dropna(how='any',axis=0)"
   ]
  },
  {
   "cell_type": "markdown",
   "metadata": {},
   "source": [
    "#### Another step in preprocessing that can be performed by scikit-learn is label encoding. \n",
    "\n",
    "We have 4 columns that are of `bool` type. We would like to convert them to an integer column containing either zero or one. We can do this using [scikit-learn's label encoder](https://scikit-learn.org/stable/modules/generated/sklearn.preprocessing.LabelEncoder.html).\n",
    "\n",
    "In the cell below, import the label encoder and encode the 4 boolean columns (*patient_diabetic*, *patient_allergic*, *patient_show*, *is_regular_visit*) with `0` and `1`. "
   ]
  },
  {
   "cell_type": "code",
   "execution_count": 25,
   "metadata": {
    "ExecuteTime": {
     "end_time": "2019-10-22T19:06:17.813706Z",
     "start_time": "2019-10-22T19:06:17.753927Z"
    }
   },
   "outputs": [],
   "source": [
    "# Your code here:\n",
    "from sklearn import preprocessing\n",
    "le = preprocessing.LabelEncoder()\n",
    "patient['patient_diabetic'] = le.fit_transform(patient['patient_diabetic'])\n",
    "patient['patient_allergic'] = le.fit_transform(patient['patient_allergic'])\n",
    "patient['patient_show'] = le.fit_transform(patient['patient_show'])\n",
    "patient['is_regular_visit'] = le.fit_transform(patient['is_regular_visit'])"
   ]
  },
  {
   "cell_type": "markdown",
   "metadata": {},
   "source": [
    "Print the data dtypes to confirm those four `bool` columns are converted to `int64`."
   ]
  },
  {
   "cell_type": "code",
   "execution_count": 26,
   "metadata": {
    "ExecuteTime": {
     "end_time": "2019-10-22T19:06:17.829888Z",
     "start_time": "2019-10-22T19:06:17.815810Z"
    }
   },
   "outputs": [
    {
     "name": "stdout",
     "output_type": "stream",
     "text": [
      "<class 'pandas.core.frame.DataFrame'>\n",
      "Int64Index: 942 entries, 0 to 999\n",
      "Data columns (total 12 columns):\n",
      "patient_gender          942 non-null object\n",
      "patient_dob             942 non-null datetime64[ns]\n",
      "patient_diabetic        942 non-null int64\n",
      "patient_allergic        942 non-null int64\n",
      "patient_weight_kg       942 non-null int64\n",
      "patient_height_sm       942 non-null int64\n",
      "doctor_name             942 non-null object\n",
      "appointment_date        942 non-null datetime64[ns]\n",
      "patient_show            942 non-null int64\n",
      "is_regular_visit        942 non-null int64\n",
      "prescribed_medicines    942 non-null object\n",
      "diagnosis               942 non-null object\n",
      "dtypes: datetime64[ns](2), int64(6), object(4)\n",
      "memory usage: 95.7+ KB\n"
     ]
    }
   ],
   "source": [
    "# Your code here:\n",
    "patient.info()"
   ]
  },
  {
   "cell_type": "markdown",
   "metadata": {},
   "source": [
    "#### The last step is to handle the `object` data.\n",
    "\n",
    "There are 4 `object` columns now: `patient_gender`, `doctor_name`, `prescribed_medicines`, and `diagnosis`. The gender columns\n",
    "\n",
    "In the next cell, check the unique values of each of the `object` columns using `value_counts()`."
   ]
  },
  {
   "cell_type": "code",
   "execution_count": 27,
   "metadata": {
    "ExecuteTime": {
     "end_time": "2019-10-22T19:06:17.845116Z",
     "start_time": "2019-10-22T19:06:17.833832Z"
    },
    "scrolled": false
   },
   "outputs": [
    {
     "name": "stdout",
     "output_type": "stream",
     "text": [
      "['Female' 'Male']\n",
      "['Sarena Waliszek' 'Farris Robinet' 'Kaspar Spitaro' 'Rafferty Fowls'\n",
      " 'Glenna MacNeachtain' 'Cissy Markey' 'Ryley Swallow' 'Wyn Grassett'\n",
      " 'Dulce McKerley' 'Gabie Brafield' 'Oralie Swaffer' 'Humfried Cartmel'\n",
      " 'Madelina Scurrell' 'Carly SperaJillie Katt' 'Jilly McGrill'\n",
      " 'Hermina Domeny' 'Flossy Canlin' 'Nerte Elmer' 'Rouvin McKinstry']\n",
      "['triamcinolone acetonide' 'no prescription'\n",
      " 'octinoxate, avobenzone, and octocrylene'\n",
      " 'Glipizide and Metformin Hydrochloride' 'Benazepril Hydrochloride'\n",
      " 'WITCH HAZEL' 'Terbinafine Hydrochloride' 'Tretinoin' 'Magesium Citrate'\n",
      " 'Psyllium Husks' 'aluminum hydroxide' 'Estradiol'\n",
      " 'Propranolol Hydrochloride' 'Avobenzone, Octinoxate, Octisalate'\n",
      " 'NEOMYCIN SULFATE' 'Sulfamethoxazole and Trimethoprim'\n",
      " 'Helium Oxygen Mixture' 'NITROGEN'\n",
      " 'acetaminophen, dextromethorphan Hbr, Phenylephrine HCl'\n",
      " 'Diphenhydramine Hydrochloride and Zinc Acetate'\n",
      " 'Human chorionic gonadotropin (hCG),'\n",
      " 'Arsenicum album, Calcarea carbonica, Ignatia amara Kali carbonicum, Lachesis mutus, Natrum muriaticum,'\n",
      " 'ABILIFY' 'ALUMINUM SULFATE' 'Natural Medicine'\n",
      " 'amoxicillin and clavulanate potassium' 'Ammonium Lactate' 'Risperidone'\n",
      " 'fomepizole' 'bisoprolol fumarate and hydrochlorothiazide'\n",
      " 'DOCUSATE SODIUM' 'dimethicone, octinoxate, octisalate, oxybenzone'\n",
      " 'codeine phosphate and guaifenesin' 'ALCOHOL' 'Pineapple'\n",
      " 'dextromethorphan polistirex'\n",
      " 'ACONITUM NAPELLUS, ARNICA MONTANA, LEDUM PALUSTRE TWIG, MAGNESIUM PHOSPHATE, DIBASIC TRIHYDRATE, TOXICODENDRON PUBESCENS LEAF, and VISCUM ALBUM FRUITING TOP'\n",
      " 'Acetaminophen, Dextromethorphan Hydrobromide, Phenylephrine Hydrochloride'\n",
      " 'Oxcarbazepine' 'OCTINOXATE and TITANIUM DIOXIDE' 'Ibuprofen'\n",
      " 'Metoclopramide Hydrochloride'\n",
      " 'OCTINOXATE, OCTISALATE, ZINC OXIDE, OXYBENZONE' 'Oxygen'\n",
      " 'Avobenzone, Octinoxate, Octisalate, Oxybenzone' 'Salt Cedar'\n",
      " 'Pyrithione Zinc' 'TRAMADOL HYDROCHLORIDE'\n",
      " 'Levocetirizine Dihydrochloride' 'SODIUM FLUORIDE' 'Triclosan'\n",
      " 'Pyrithione zinc' 'Citalopram' 'Metoprolol Tartrate'\n",
      " 'propafenone hydrochloride' 'Silicea Belladonna'\n",
      " 'Valacyclovir hydrochloride' 'Protriptyline Hydrochloride'\n",
      " 'Dexamethasone' 'Ketoconazole' 'Erythromycin' 'ESCITALOPRAM OXALATE'\n",
      " 'alcohol' 'AVOBENZONE, OCTOCRYLENE, OXYBENZONE' 'moexipril hydrochloride'\n",
      " 'Docusate sodium and Sennosides' 'Oats, Common, Cultivated Avena sativa'\n",
      " 'Amlodipine Besylate'\n",
      " 'HOMOSALATE, OXYBENZONE, OCTISALATE, AVOBENZONE, OCTOCRYLENE'\n",
      " 'Metformin Hydrochloride' 'Gabapentin' 'OCTINOXATE' 'Mountain Cedar'\n",
      " 'Artichoke' 'Droperidol'\n",
      " 'Arnica montana, Caladium seguinum, Carduus marianus, Damiana, Galium aparine, Glandula suprarenalis suis, Hepar suis, Korean ginseng, Lactuca virosa,'\n",
      " 'Valsartan and Hydrochlorothiazide' 'Diphenhydramine Hydrochloride'\n",
      " 'Ranitidine Hydrochloride'\n",
      " 'Chelidonium Majus, Hepar Suis, Cholesterinum, Lycopodium Clavatum, Tarentula Hispana, Arsenicum Album, Belladonna'\n",
      " 'Omeprazole' 'morphine sulfate'\n",
      " 'OCTINOXATE, TITANIUM DIOXIDE, and ZINC OXIDE'\n",
      " 'Titanium Dioxide, Zinc Oxide, and Octinoxate' 'albuterol sulfate'\n",
      " 'Octinoxate and Oxybenzone' 'vilazodone hydrochloride'\n",
      " 'benztropine mesylate' 'Ketorolac Tromethamine' 'Titanium dioxide'\n",
      " 'Camphor Menthol Methyl Salicylate' 'clonazepam' 'Mirtazapine'\n",
      " 'epinephrine' 'Menthol' 'False Ragweed Bur' 'Zinc Oxide'\n",
      " 'AVOBENZONE, OCTISALATE, OCTOCRYLENE' 'ALTERNARIA TENUIS'\n",
      " 'Dextromethophan Hydrobromide, Chlorpheniramine Maleate, Phenylephrine Hydrochloride'\n",
      " 'Nadolol' 'fluvastatin' 'VERAPAMIL HYDROCHLORIDE' 'Spasms Weakness'\n",
      " 'CALENDULA OFFICINALIS FLOWERING TOP' 'Titanium Dioxide, Zinc Oxide'\n",
      " 'Treatment Set TS350393' 'Naproxen Sodium' 'Cucumber'\n",
      " 'Antihemophilic Factor (Recombinant)' 'fentanyl' 'Acetaminophen'\n",
      " 'Carvedilol' 'synthetic conjugated estrogens, B'\n",
      " 'Lidocaine Hydrochloride-Menthol' 'Green Pea English'\n",
      " 'amlodipine besylate and atorvastatin calcium'\n",
      " 'Aluminum Zirconium Trichlorohydrex Gly' 'BENZETHONIUM CHLORIDE'\n",
      " 'Oxycodone and Acetaminophen' 'TITANIUM DIOXIDE' 'LYTTA VESICATORIA'\n",
      " 'TRICHOPHYTON MENTAGROPHYTES' 'Venlafaxine Hydrochloride'\n",
      " 'Pectin and Echinacea Purpurea'\n",
      " 'Avobenzone, Octinoxate, Octisalate, Octocrylene' 'divalproex sodium'\n",
      " 'alnus incana subsp. rugosa pollen' 'ATRACTYLODES JAPONICA ROOT'\n",
      " 'Homosalate Oxybenzone Octocrylene Octisalate Avobenzone'\n",
      " 'Salicylic Acid' 'Hydrocortisone' 'Hog Epithelium'\n",
      " 'TRIHEXYPHENIDYL HYDROCHLORIDE' 'Senna and Docusate Sodium' 'Privet'\n",
      " 'ACETAMINOPHEN and PYRILAMINE MALEATE'\n",
      " 'TRAMETES VERSICOLOR FRUITING BODY' 'Warfarin Sodium' 'Benzoyl Peroxide'\n",
      " 'Enoxaparin Sodium' 'Guaifenesin and Dextromethorphan Hydrobromide'\n",
      " 'acetaminophen' 'Duloxetine' 'Medroxyprogesterone Acetate'\n",
      " 'tramadol hydrochloride' 'POLYVINYL ALCOHOL'\n",
      " 'bacitracin zinc, neomycin, polymyxin B' 'Nicotine Polacrilex'\n",
      " 'sildenafil citrate' 'Lansoprazole' 'Pantoprazole Sodium'\n",
      " 'GRANISETRON HYDROCHLORIDE'\n",
      " 'Agnus 30c, Aurum Nat Mur. 30c, Aletris 30c, Dioscorea 30c' 'mupirocin'\n",
      " 'FERRIC OXIDE RED' 'Purixan' 'KAPOK' 'Granisetron Hydrochloride'\n",
      " 'Eastern Cottonwood' 'Aurum Lavender Rose'\n",
      " 'Uricum acidum, Benzoicum acidum, Berber. vulg., Bryonia, Cantharis, Carduus benedictus, Ceanothus, Chelidonium majus, Chionanthus virginica, Cinchona, Dioscorea, Dolichos, Iris versicolor, Juniperus com., Nux vom., Ptelea, Taraxacum, Carduus mar., Cynara scolymus, Solidago'\n",
      " 'Neurospora intermedia' 'Dimethicone' 'phytonadione'\n",
      " 'DEXTROMETHORPHAN HYDROBROMIDE, GUAIFENESIN, PHENYLEPHRINE HYDROCHLORIDE'\n",
      " 'Octinoxate and Titanium Dioxide' 'BISMUTH SUBSALICYLATE'\n",
      " 'Methyl salicylate, Menthol, Capsaicin' 'ketoconazole' 'CLOTRIMAZOLE'\n",
      " 'tobramycin and dexamethasone' 'Sodium Fluoride' 'mesna' 'TRICLOSAN'\n",
      " 'norethindrone acetate and ethinyl estradiol and ferrous fumarate'\n",
      " 'ACETAMINOPHEN, DOXYLAMINE SUCCINATE HCL, DEXTROMETHORPHAN HYDROBROMIDE'\n",
      " 'GLYCERIN' 'isopropyl alcohol'\n",
      " 'Acetaminophen, Dextromethorphan HBr, Guaifenesin, Phenylephrine HCl'\n",
      " 'montelukast sodium'\n",
      " 'ACONITUM NAPELLUS and BRYONIA ALBA ROOT and PHOSPHORUS'\n",
      " 'Oxymorphone Hydrochloride' 'BENZALKONIUM CHLORIDE'\n",
      " 'SERTRALINE HYDROCHLORIDE' 'Birch Black'\n",
      " 'Acetaminophen, Dextromethorphan HBr, Doxylamine succinate'\n",
      " 'OXYBENZONE, AVOBENZONE, OCTOCRYLENE' 'OXYGEN'\n",
      " 'SALICYLIC ACID, TITANIUM DIOXIDE, ZINC OXIDE' 'providone iodine'\n",
      " 'oxybutynin chloride' 'Strawberry' 'Fibrinogen Human Thrombin Human'\n",
      " 'avobenzone, homosalate, octisalate, octocrylene' 'Fluoxetine'\n",
      " 'Chlorpheniramine Maleate' 'Aluminum Zirconium Tetrachlorohydrex GLY'\n",
      " 'Amoxicillin' 'romidepsin' 'HYDROQUINONE' 'OCTINOXATE and OXYBENZONE'\n",
      " 'Etodolac' 'Cefuroxime' 'cysteamine hydrochloride' 'MENTHOL'\n",
      " 'Octinoxate, Titanium Dioxide' 'doxepin hydrochloride'\n",
      " 'Potassium Chloride' 'Aurum 5' 'Metaxalone' 'HYDROCORTISONE'\n",
      " 'Triclocarban' 'diazepam' 'Ramipril'\n",
      " 'Acetaminophen, Guaifenesin, Phenylephrine HCl'\n",
      " 'Loperamide Hydrochloride' 'ACETAMINOPHEN'\n",
      " 'Levonorgestrel and Ethinyl Estradiol' 'Phenazopyridine Hydrochloride'\n",
      " 'House Dust' 'TOLNAFTATE'\n",
      " 'PSEUDOGNAPHALIUM OBTUSIFOLIUM, CAUSTICUM, COLCHICUM AUTUMNALE BULB, CITRULLUS COLOCYNTHIS FRUIT PULP, IRON, LITHIUM BENZOATE, TOXICODENDRON PUBESCENS LEAF and FILIPENDULA ULMARIA ROOT'\n",
      " 'benzocaine and glycerin' 'clocortolone pivalate'\n",
      " 'donepezil hydrochloride' 'fluvastatin sodium' 'Docetaxel'\n",
      " 'Dextromethorphan HBr, Guaifenesin' 'fentanyl citrate' 'Disulfiram'\n",
      " 'Potassium Iodide' 'Tetracycline Hydrochloride'\n",
      " 'Leucine, Phenylalanine, Lysine, Methionine, Isoleucine, Valine, Histidine, Threonine, Tryptophan, Alanine, Glycine, Arginine, Proline, Serine, Tyrosine, Dextrose'\n",
      " 'Bethanechol Chloride' 'Norethindrone and Ethinyl Estradiol Tablets'\n",
      " 'Sodium chloride'\n",
      " 'Polyethylene Glycol 3350, Sodium Sulfate Anhydrous, Sodium Bicarbonate, Sodium Chloride, Potassium Chloride'\n",
      " 'petrolatum' 'amoxicillin' 'ZINC OXIDE, OCTINOXATE, and OCTISALATE'\n",
      " 'Yellow Dock'\n",
      " 'Agnus castus, Aralia quinquefolia, Arnica montana, Damiana, Lactuca virosa, Natrum muriaticum, Onosmodium virginianum, Oophorinum, Phosphoricum acidum, Pituitarum posterium, Salix nigra, Sepia, Thuja occidentalis'\n",
      " 'MOMETASONE FUROATE' 'CEFTAZIDIME' 'Bismuth subsalicylate'\n",
      " 'MAGNESIUM HYDROXIDE' 'Hepatitis B Immune Globulin (Human)'\n",
      " 'Eprosartan Mesylate and Hydrochlorothiazide'\n",
      " 'levothyroxine sodium tablets' 'Captopril' 'Miconazole Nitrate'\n",
      " 'Levothyroxine Sodium' 'CETYLPYRIDINIUM CHLORIDE' 'Topiramate'\n",
      " 'peginterferon alfa-2b' 'LOSARTAN POTASSIUM AND HYDROCHLOROTHIAZIDE'\n",
      " 'Titanium Dioxide'\n",
      " 'famotidine, calcium carbonate and magnesium hydroxide'\n",
      " 'Aralia racemosa, Arsenicum album, Histaminum hydrochloricum, Nux vomica, Oleum animale, Phosphorus, Silicea, Sulphur'\n",
      " 'Diphenhydramine HCl' 'Water' 'Sweetgum'\n",
      " 'Lidocaine Hydrochloride and Hydrocortisone Acetate' 'Octinoxate'\n",
      " 'Pseudoephedrine Hydrochloride' 'MAGNESIUM CITRATE' 'Eucalyptol'\n",
      " 'Hydrocodone Bitartrate and Acetaminophen' 'LACTULOSE'\n",
      " 'VANCOMYCIN HYDROCHLORIDE' 'ERYTHROMYCIN STEARATE'\n",
      " 'Lidocaine Hydrochloride' 'Titanium dioxide and Zinc oxide'\n",
      " 'Benzalkonium Chloride' 'salicylic acid'\n",
      " 'Octinoxate and Titanium dioxide'\n",
      " 'CONJUGATED ESTROGENS and MEDROXYPROGESTERONE ACETATE' 'Aspirin'\n",
      " 'methylcellulose'\n",
      " 'Acetaminophen, Dextromethorphan Hydrobromide, Doxylamine Succinate'\n",
      " 'sodium fluoride' 'Lemon' 'Urea Cream with Moisturizing Cream'\n",
      " 'benzocaine' 'zinc acetate' 'POVIDONE-IODINE' 'Sodium Fluoride F-18'\n",
      " 'Bupropion Hydrochloride' 'cocoa butter, phenylephrine HCl'\n",
      " 'Isopropyl Alcohol' 'PETROLATUM' 'Simvastatin' 'Carelessweed'\n",
      " 'Aloe socotrina, Alumina, Apis mellifica' 'FENTANYL'\n",
      " 'valsartan and hydrochlorothiazide' 'Mupirocin' 'WATER' 'polidocanol'\n",
      " 'Butalbital and Acetaminophen Tablets' 'GINKGO BILOBA LEAF'\n",
      " 'hydroxocobalamin' 'avobenzone, homosalate, octisalate, oxybenzone'\n",
      " 'tapentadol hydrochloride' 'Aluminum Chlorohydrate' 'Rough Marsh Elder'\n",
      " 'Prazosin Hydrochloride' 'Fenofibric Acid' 'methimazole' 'Oat Grain'\n",
      " 'AVOBENZONE, OCTINOXATE,OCTISALATE' 'TITANIUM DIOXIDE, OCTINOXATE'\n",
      " 'ZINC OXIDE' 'sodium selenite' 'Trandolapril' 'DROSERA ROTUNDIFOLIA'\n",
      " 'Rhodotorula mucilaginosa' 'False Ragweed'\n",
      " 'Avobenzone, Homosalate, Octisalate, Octocrylene, and Oxybenzone'\n",
      " 'Heparin Sodium' 'Cypress Arizona' 'allopurinol'\n",
      " 'Asterias rubens, Bryonia, Conium maculatum, Galium aparine, Hoang-nan, Lachesis mutus, Nux vomica, Ova tosta, Sepia and Viscum album'\n",
      " 'Simethicone' 'Pyrazinamide' 'Losartan Potassium' 'Furosemide'\n",
      " 'ALUMINUM CHLOROHYDRATE' 'Hydrocortisone Acetate'\n",
      " 'OCTINOXATE, TITANIUM DIOXIDE, DIMETHICONE, ALUMINUM HYDROXIDE, STEARIC ACID, HYDROXYPROLINE,'\n",
      " 'Metoprolol succinate' 'Cefuroxime Axetil' 'Diltiazem Hydrochloride'\n",
      " 'Glyburide' 'Vancomycin Hydrochloride' 'Octisalate and Zinc Oxide'\n",
      " 'Aluminum Zirconium Pentachlorohydrex Gly'\n",
      " 'OCTINOXATE, TITANIUM DIOXIDE, OXYBENZONE'\n",
      " 'Boricum Gluconicum, Calcarea Gluconica, Chromium Gluconicum, Cobaltum Gluconicum, Cuprum Gluconicum'\n",
      " 'lidocaine hydrochloride' 'Acetaminophen, Aspirin, Caffeine'\n",
      " 'SOYBEAN OIL' 'Doxazosin' 'Lisinopril and hydrochlorothiazide'\n",
      " 'estradiol acetate' 'Sertraline Hydrochloride'\n",
      " 'Zinc Oxide, Titanium Dioxide' 'Folic Acid' 'California Black Walnut'\n",
      " 'ATORVASTATIN CALCIUM' 'MIDODRINE HYDROCHLORIDE' 'levothyroxine sodium'\n",
      " 'metformin hydrochloride' 'Atorvastatin Calcium' 'acitretin' 'Apis Rhus'\n",
      " 'TITANIUM DIOXIDE and ZINC OXIDE' 'Para Grass Pollen'\n",
      " 'HYDROCODONE BITARTRATE AND IBUPROFEN' 'MYRRH GOLD'\n",
      " 'Calcium carbonate and Magnesium hydroxide'\n",
      " '.beta.-carotene, ascorbic acid, cholecalciferol, .alpha.-tocopherol acetate, dl-, thiamine mononitrate, riboflavin, niacinamide, pyridoxine hydrochloride, folic acid, cyanocobalamin, calcium carbonate, ferrous fumarate, potassium iodide and zinc oxide'\n",
      " 'Cefprozil' 'Enalapril Maleate'\n",
      " 'octinoxate, octisalate, octocrylene, oxybenzone' 'Hormodendrum'\n",
      " 'Acetaminophen, Diphenhydramine HCl' 'Antiseptic handwash'\n",
      " 'Aesculus hippocastanum, Arnica montana, Berberis vulgaris, Carbo vegetabilis, Echinacea angustifolia, Hamamelis virginiana, Hydrofluoricum acidum, Lycopodium clavatum, Secale cornutum, Sulfur'\n",
      " 'bethanechol chloride' 'Glycerin' 'Mango Blossom'\n",
      " 'Hydrocodone Bitartrate and Ibuprofen'\n",
      " 'OCTINOXATE, OXYBENZONE, TITANIUM DIOXIDE' 'Duloxetine hydrochloride'\n",
      " 'clobazam' 'Hydrogen Peroxide' 'AMOXICILLIN'\n",
      " 'Norethindrone and Ethinyl Estradiol' 'Cyclopentolate Hydrochloride'\n",
      " 'Promethazine Hydrochloride' 'Benzocaine'\n",
      " 'AVOBENZONE, OCTINOXATE, OCTISALATE, OCTOCRYLENE'\n",
      " 'MINERAL OIL,PETROLATUM,PHENYLEPHRINE'\n",
      " 'diphenhydramine citrate and ibuprofen' 'ezetimibe and simvastatin'\n",
      " 'Soft Cheat Brome' 'Desmopressin Acetate' 'ENALAPRIL MALEATE'\n",
      " 'atorvastatin calcium' 'Formaldehyde' 'nitroglycerin' 'IRON SUPPLEMENT'\n",
      " 'aluminum hydroxide, magnesium carbonate, sodium bicarbonate']\n",
      "['I669' 'no diagnosis' 'S72309N' 'T508X6' 'S420' 'T8743' 'M80072A'\n",
      " 'T22342A' 'S06378S' 'T23269' 'Y37251D' 'S42491G' 'S58922' 'S89041'\n",
      " 'S72321R' 'E1340' 'B161' 'S52392D' 'W9431XA' 'S12551B' 'V722XXS'\n",
      " 'S82155H' 'P0734' 'S40811' 'S21049S' 'T2682XD' 'G4762' 'S91322S'\n",
      " 'T24701S' 'T2169' 'B352' 'T25021D' 'T8511' 'G328' 'I159' 'S72452A'\n",
      " 'T6192XD' 'Y383X2A' 'T444X6A' 'M2441' 'T501X5D' 'S353' 'W1692XD'\n",
      " 'S89299D' 'V4950XA' 'M0684' 'R4921' 'M7133' 'T311' 'O29013' 'S82114'\n",
      " 'H15012' 'C944' 'A669' 'M8916' 'V346XXS' 'M84573P' 'T81507S' 'S63232'\n",
      " 'M0570' 'T675XXS' 'S52331B' 'T84192S' 'M84453G' 'S46899' 'S52254G'\n",
      " 'M11849' 'T80218' 'M80071S' 'S25492D' 'S42016B' 'S72345C' 'S72443Q'\n",
      " 'G5783' 'H04211' 'S3510XD' 'R4184' 'G4011' 'I308' 'O26852' 'S85102A'\n",
      " 'S9086' 'S82134D' 'S34102' 'S60041D' 'O368920' 'M10372' 'T4271' 'M1A0320'\n",
      " 'M87252' 'S82265K' 'T401X1S' 'A369' 'S93333A' 'S42324A' 'S92491' 'H40041'\n",
      " 'S27432' 'H11012' 'M84334K' 'T8386XS' 'M80822K' 'S60522' 'V9101'\n",
      " 'T440X4A' 'S56403S' 'K754' 'O26812' 'I850' 'V9605XD' 'M84631A' 'S0041'\n",
      " 'S72354P' 'H31329' 'M84569D' 'H04313' 'M2434' 'S82022H' 'Y248' 'V00811A'\n",
      " 'I69261' 'S01112' 'S01102A' 'M60162' 'V97811S' 'S36202D' 'F199' 'C130'\n",
      " 'V877' 'B972' 'M1A10X0' 'C9251' 'O360114' 'S62122D' 'S63266' 'S60212'\n",
      " 'S63295' 'T3292' 'O280' 'S53449' 'S82422J' 'S37531A' 'S89221' 'M2637'\n",
      " 'S98321' 'L971' 'S055' 'T550X2' 'J960' 'O693' 'V559XXD' 'S49039P'\n",
      " 'S31101D' 'M24474' 'H0243' 'S65011' 'S82254B' 'S92334G' 'S92223A'\n",
      " 'Y3593XA' 'S72445D' 'S12030D' 'S4292XA' 'M80871D' 'T466X5A' 'N2885'\n",
      " 'S12390D' 'S82045H' 'I83011' 'T86898' 'O43892' 'R203' 'H04131' 'M41117'\n",
      " 'S82151B' 'S82041K' 'S62235D' 'M342' 'S42222D' 'S062X0D' 'S4342'\n",
      " 'M8080XP' 'S52109H' 'Z020' 'Y37220S' 'V733' 'S66100D' 'T82118S' 'T5392XS'\n",
      " 'M1023' 'S42024D' 'S298' 'D173' 'S66319A' 'S61419A' 'M00052' 'S5620'\n",
      " 'S590' 'S52541S' 'S72445M' 'S89049A' 'S01311A' 'T17390' 'S92812D'\n",
      " 'S56113D' 'S238XXS' 'S99132G' 'S3215XB' 'O9122' 'S59801' 'M84433A' 'Z451'\n",
      " 'V00832S' 'G4759' 'V2960XA' 'G718' 'S83409' 'S20362A' 'V110XXS' 'S52251K'\n",
      " 'S12690D' 'S83105A' 'M6127' 'S72423S' 'X52XXXS' 'S3590XS' 'T24602A'\n",
      " 'S471XXD' 'S63006' 'S02632K' 'S52322G' 'S92222K' 'X35XXXD' 'V541XXD'\n",
      " 'T6306' 'H401422' 'Y9302' 'S72455J' 'T3182' 'S63035S' 'L97213' 'T68XXXS'\n",
      " 'S6791XS' 'T7114' 'M80842K' 'Z13' 'S90549D' 'W2107XD' 'M2325' 'W139XXD'\n",
      " 'T481X4' 'T23109A' 'S92523P' 'Z283' 'Z8541' 'S32058K' 'W5612XD' 'S62134B'\n",
      " 'S83111D' 'S52041C' 'S85189' 'L441' 'H4913' 'I741' 'S12101' 'T85828'\n",
      " 'M65232' 'S62327B' 'S56221S' 'S91222D' 'S82035M' 'T468X3A' 'D683'\n",
      " 'T618X2D' 'V0111XS' 'P780' 'W621XXS' 'S14135D' 'T507X3' 'H11022'\n",
      " 'S59192S' 'S11021' 'K51519' 'S52256B' 'S20301' 'M7981' 'T366X5D' 'Y62'\n",
      " 'S62185' 'V711' 'S61122' 'O324XX3' 'T63444S' 'S82452' 'T6403XS' 'S42262A'\n",
      " 'M02812' 'T23609S' 'Q51' 'S065X1A' 'Q226' 'S72425H' 'W320XXD' 'T39091S'\n",
      " 'S99102G' 'T475X6A' 'S42333G' 'T40993' 'M2555' 'J208' 'S42154G' 'S82264J'\n",
      " 'X928' 'T3185' 'S3134XA' 'Y92232' 'F10250' 'Z825' 'T8242XA' 'M110'\n",
      " 'S91153S' 'R871' 'M66352' 'M8972' 'S49112' 'T433X6A' 'T457X6S' 'S59802A'\n",
      " 'S82243J' 'S01152S' 'S82466H' 'S52009D' 'S1989XS' 'S66313D' 'A154'\n",
      " 'G9529' 'I82711' 'T63414A' 'A928' 'A3685' 'V401XXA' 'H4050X1' 'M12451'\n",
      " 'T82868' 'S92911G' 'S0280XD' 'T402X6S' 'Z044' 'S73011' 'H1604' 'S62656'\n",
      " 'M80012K' 'C858' 'S2091XS' 'S42212G' 'J8411' 'S72091S' 'S72456Q'\n",
      " 'R402433' 'S76119S' 'R098' 'S73129S' 'S52236A' 'X004XXD' 'H16243' 'B3323'\n",
      " 'M2361' 'S53101D' 'S00552A' 'S82156G' 'H5017' 'S8390' 'H1812' 'S83112A'\n",
      " 'V830XXD' 'N7681' 'S52699A' 'S63439D' 'S660' 'S88911A' 'S53015S'\n",
      " 'S46919A' 'S25811D' 'W0111' 'T468X5S' 'Q051' 'S46019D' 'S27898S'\n",
      " 'S52122B' 'T374X3A' 'S8314' 'A241' 'I2111' 'M86451' 'V666XXD' 'S42455K'\n",
      " 'S31119D' 'S76091D' 'M84432' 'M205X' 'S82201P' 'S72144E' 'S68711S'\n",
      " 'V4351XS' 'S52311G' 'G318' 'S82425B' 'K1233' 'A1859' 'M12322' 'S153'\n",
      " 'S6111' 'H47021' 'T34531S' 'T43634A' 'S3792XA' 'H0019' 'S92101S' 'N99533'\n",
      " 'S52245J' 'V879XXS' 'T63591S' 'E875' 'M88871' 'S42424S' 'T467X1S'\n",
      " 'V9361XD' 'O42911' 'K80' 'S2222' 'S52043K' 'W16021' 'S12351' 'S82146S'\n",
      " 'S72455A' 'S52224S' 'T80212S' 'S27391S' 'P920' 'M308' 'Y3709' 'S72361C'\n",
      " 'Q122' 'H5052' 'S96112' 'H01021' 'T23291D' 'G7089' 'T81591A' 'S0269XB'\n",
      " 'M05161' 'A849' 'S56108' 'K869' 'S62654G' 'H11142' 'O2252' 'S80262'\n",
      " 'S67192A' 'O30829' 'H011' 'V8672XD' 'M7101' 'S72346H' 'H44119' 'G9341'\n",
      " 'V9313XA' 'T65893S' 'D1339' 'T523X1A' 'S83409A' 'W132XXD' 'S70319A'\n",
      " 'L0233' 'T63592' 'S63694A' 'S52243H' 'S82112N' 'M4632' 'J633' 'O3620X1'\n",
      " 'C8469' 'S95091S' 'S6610' 'I70429']\n"
     ]
    }
   ],
   "source": [
    "# Your code here:\n",
    "obj = ['patient_gender', 'doctor_name', 'prescribed_medicines', 'diagnosis']\n",
    "for col in obj:\n",
    "    print(patient[col].unique())"
   ]
  },
  {
   "cell_type": "markdown",
   "metadata": {},
   "source": [
    "#### The number of unique values is large for all three columns except `patient_gender`. We will handle these columns differently.\n",
    "\n",
    "For `diagnosis`, there are too many unique values which will make ML difficult. However, we can re-encode the values to either with or without diagnosis. Remember at an earlier step we filled in the missing values of this column with *no diagnosis*? We can re-encode *no diagnosis* to `0` and all other values to `1`. In this way we can tremendously simply this column.\n",
    "\n",
    "For `prescribed_medicines`, we can drop this column because it is perfectly correlated with `diagnosis`. Whenever there is no diagnosis, there is no prescribed medicine. So we don't need to keep this duplicated data.\n",
    "\n",
    "How about `doctor_name`? There are not excessive unique values but still quite many (19). We may either drop or keep it but keeping it will make the analysis more complicated. So due to the length of this lab let's drop it.\n",
    "\n",
    "How about `gender`? This one is easy. Just like re-encoding the boolean values, we can re-encode gender to `0` and `1` because there are only 2 unique values.\n",
    "\n",
    "In the next cells, do the following:\n",
    "\n",
    "1. Create a new column called `diagnosis_int` that has `0` and `1` based on the values in `diagnosis`.\n",
    "\n",
    "1. Create a new column called `patient_gender_int` that has `0` and `1` based on the values in `patient_gender`.\n",
    "\n",
    "1. Drop the following columns: `doctor_name`, `diagnosis`, `prescribed_medicines`, and `patient_gender`."
   ]
  },
  {
   "cell_type": "code",
   "execution_count": 28,
   "metadata": {
    "ExecuteTime": {
     "end_time": "2019-10-22T19:06:17.861945Z",
     "start_time": "2019-10-22T19:06:17.849925Z"
    }
   },
   "outputs": [],
   "source": [
    "# Your code here:\n",
    "patient.diagnosis= np.where(patient.diagnosis.str.startswith(\"no diag\"), 0, 1)\n",
    "patient['patient_gender_int']= np.where(patient.patient_gender.str.startswith(\"Fe\"), 0, 1)\n",
    "\n",
    "\n",
    "drop=['doctor_name', 'diagnosis', 'prescribed_medicines', 'patient_gender']\n",
    "patient = patient.drop(drop, axis=1)"
   ]
  },
  {
   "cell_type": "markdown",
   "metadata": {},
   "source": [
    "Let's look at the head again to ensure the re-encoding and dropping are successful:"
   ]
  },
  {
   "cell_type": "code",
   "execution_count": 32,
   "metadata": {
    "ExecuteTime": {
     "end_time": "2019-10-22T19:06:49.094990Z",
     "start_time": "2019-10-22T19:06:49.079176Z"
    }
   },
   "outputs": [
    {
     "data": {
      "text/html": [
       "<div>\n",
       "<style scoped>\n",
       "    .dataframe tbody tr th:only-of-type {\n",
       "        vertical-align: middle;\n",
       "    }\n",
       "\n",
       "    .dataframe tbody tr th {\n",
       "        vertical-align: top;\n",
       "    }\n",
       "\n",
       "    .dataframe thead th {\n",
       "        text-align: right;\n",
       "    }\n",
       "</style>\n",
       "<table border=\"1\" class=\"dataframe\">\n",
       "  <thead>\n",
       "    <tr style=\"text-align: right;\">\n",
       "      <th></th>\n",
       "      <th>patient_dob</th>\n",
       "      <th>patient_diabetic</th>\n",
       "      <th>patient_allergic</th>\n",
       "      <th>patient_weight_kg</th>\n",
       "      <th>patient_height_sm</th>\n",
       "      <th>appointment_date</th>\n",
       "      <th>patient_show</th>\n",
       "      <th>is_regular_visit</th>\n",
       "      <th>patient_gender_int</th>\n",
       "    </tr>\n",
       "  </thead>\n",
       "  <tbody>\n",
       "    <tr>\n",
       "      <th>0</th>\n",
       "      <td>2018-10-18</td>\n",
       "      <td>0</td>\n",
       "      <td>1</td>\n",
       "      <td>59</td>\n",
       "      <td>176</td>\n",
       "      <td>2018-05-01</td>\n",
       "      <td>1</td>\n",
       "      <td>1</td>\n",
       "      <td>0</td>\n",
       "    </tr>\n",
       "    <tr>\n",
       "      <th>1</th>\n",
       "      <td>2018-02-08</td>\n",
       "      <td>0</td>\n",
       "      <td>1</td>\n",
       "      <td>77</td>\n",
       "      <td>186</td>\n",
       "      <td>2017-12-07</td>\n",
       "      <td>1</td>\n",
       "      <td>1</td>\n",
       "      <td>0</td>\n",
       "    </tr>\n",
       "    <tr>\n",
       "      <th>2</th>\n",
       "      <td>2018-10-09</td>\n",
       "      <td>1</td>\n",
       "      <td>1</td>\n",
       "      <td>90</td>\n",
       "      <td>177</td>\n",
       "      <td>2018-10-05</td>\n",
       "      <td>0</td>\n",
       "      <td>0</td>\n",
       "      <td>0</td>\n",
       "    </tr>\n",
       "    <tr>\n",
       "      <th>3</th>\n",
       "      <td>2018-09-10</td>\n",
       "      <td>1</td>\n",
       "      <td>1</td>\n",
       "      <td>70</td>\n",
       "      <td>150</td>\n",
       "      <td>2018-10-21</td>\n",
       "      <td>0</td>\n",
       "      <td>1</td>\n",
       "      <td>1</td>\n",
       "    </tr>\n",
       "    <tr>\n",
       "      <th>4</th>\n",
       "      <td>2018-02-26</td>\n",
       "      <td>0</td>\n",
       "      <td>1</td>\n",
       "      <td>82</td>\n",
       "      <td>140</td>\n",
       "      <td>2018-11-15</td>\n",
       "      <td>0</td>\n",
       "      <td>0</td>\n",
       "      <td>0</td>\n",
       "    </tr>\n",
       "  </tbody>\n",
       "</table>\n",
       "</div>"
      ],
      "text/plain": [
       "  patient_dob  patient_diabetic  patient_allergic  patient_weight_kg  \\\n",
       "0  2018-10-18                 0                 1                 59   \n",
       "1  2018-02-08                 0                 1                 77   \n",
       "2  2018-10-09                 1                 1                 90   \n",
       "3  2018-09-10                 1                 1                 70   \n",
       "4  2018-02-26                 0                 1                 82   \n",
       "\n",
       "   patient_height_sm appointment_date  patient_show  is_regular_visit  \\\n",
       "0                176       2018-05-01             1                 1   \n",
       "1                186       2017-12-07             1                 1   \n",
       "2                177       2018-10-05             0                 0   \n",
       "3                150       2018-10-21             0                 1   \n",
       "4                140       2018-11-15             0                 0   \n",
       "\n",
       "   patient_gender_int  \n",
       "0                   0  \n",
       "1                   0  \n",
       "2                   0  \n",
       "3                   1  \n",
       "4                   0  "
      ]
     },
     "execution_count": 32,
     "metadata": {},
     "output_type": "execute_result"
    }
   ],
   "source": [
    "# Your code here:\n",
    "\n",
    "patient.head()"
   ]
  },
  {
   "cell_type": "markdown",
   "metadata": {},
   "source": [
    "An interesting observation is that all patients are no older than 2 years. However, their weights and heights indicate that they are adults. This cannot be true. Therefore, we can either trust the weight and height columns or the DOB column. Since there are other columns that indicate that these are adults (they have emails, some have diabetes) we will drop the `patient_dob` column. We will also drop the `appointment_date` column since it has too many unique values to transform to a dummy variable. Drop the two columns in the cell below."
   ]
  },
  {
   "cell_type": "code",
   "execution_count": 33,
   "metadata": {
    "ExecuteTime": {
     "end_time": "2019-10-22T19:07:05.331421Z",
     "start_time": "2019-10-22T19:07:05.326447Z"
    }
   },
   "outputs": [],
   "source": [
    "# Your code here:\n",
    "drop=['patient_dob', 'appointment_date']\n",
    "patient = patient.drop(drop, axis=1)"
   ]
  },
  {
   "cell_type": "markdown",
   "metadata": {},
   "source": [
    "#### Our data is now ready for clustering. Let's use k-means again.\n",
    "\n",
    "We start by initializing and fitting a model in the cell below. Call this model patients_cluster."
   ]
  },
  {
   "cell_type": "code",
   "execution_count": 34,
   "metadata": {
    "ExecuteTime": {
     "end_time": "2019-10-22T19:07:12.232156Z",
     "start_time": "2019-10-22T19:07:12.149845Z"
    }
   },
   "outputs": [
    {
     "data": {
      "text/plain": [
       "array([3, 3, 1, 2, 0, 1, 1, 2, 0, 0, 0, 2, 3, 0, 3, 2, 3, 3, 3, 2, 0, 2,\n",
       "       1, 2, 3, 1, 3, 3, 1, 2, 3, 0, 2, 1, 3, 1, 2, 1, 0, 3, 3, 3, 3, 3,\n",
       "       3, 2, 1, 3, 1, 2, 0, 1, 3, 3, 2, 0, 1, 3, 1, 1, 2, 1, 2, 0, 3, 1,\n",
       "       1, 0, 0, 3, 2, 1, 2, 2, 0, 1, 2, 0, 0, 3, 0, 1, 3, 3, 2, 2, 1, 1,\n",
       "       3, 2, 1, 1, 3, 2, 1, 3, 1, 3, 1, 0, 3, 3, 2, 3, 2, 1, 1, 2, 3, 1,\n",
       "       1, 0, 3, 2, 3, 1, 0, 3, 2, 2, 2, 1, 1, 1, 3, 1, 0, 2, 0, 0, 1, 3,\n",
       "       3, 3, 0, 3, 3, 1, 0, 0, 2, 2, 2, 2, 1, 0, 3, 3, 2, 3, 1, 2, 1, 1,\n",
       "       2, 2, 2, 3, 1, 3, 1, 1, 2, 2, 2, 0, 3, 2, 1, 2, 0, 1, 1, 3, 1, 3,\n",
       "       1, 3, 3, 0, 0, 1, 0, 1, 3, 2, 2, 0, 3, 1, 1, 1, 0, 3, 3, 3, 3, 0,\n",
       "       3, 0, 3, 2, 0, 3, 3, 1, 3, 2, 3, 3, 0, 1, 0, 0, 2, 0, 0, 2, 2, 0,\n",
       "       2, 1, 2, 3, 3, 0, 0, 3, 3, 0, 3, 0, 0, 0, 3, 3, 1, 3, 2, 0, 2, 0,\n",
       "       1, 0, 1, 1, 1, 0, 3, 2, 3, 2, 0, 1, 3, 3, 3, 0, 3, 0, 2, 3, 2, 0,\n",
       "       3, 1, 0, 2, 2, 3, 2, 3, 1, 2, 1, 0, 2, 1, 2, 1, 3, 1, 3, 3, 2, 3,\n",
       "       0, 0, 1, 3, 2, 3, 0, 3, 0, 3, 2, 3, 3, 1, 1, 2, 2, 1, 0, 1, 1, 2,\n",
       "       2, 1, 1, 2, 3, 0, 3, 0, 2, 0, 1, 1, 3, 3, 3, 1, 3, 0, 1, 2, 1, 3,\n",
       "       1, 3, 3, 3, 1, 3, 1, 3, 0, 3, 1, 1, 3, 0, 2, 1, 3, 2, 1, 3, 2, 0,\n",
       "       1, 3, 1, 3, 1, 2, 1, 0, 2, 2, 2, 1, 0, 3, 2, 0, 2, 0, 2, 1, 0, 3,\n",
       "       0, 1, 1, 0, 3, 3, 3, 3, 3, 2, 0, 1, 3, 2, 3, 3, 3, 0, 0, 0, 0, 2,\n",
       "       1, 2, 2, 1, 0, 0, 3, 2, 1, 0, 0, 0, 1, 2, 0, 0, 0, 0, 3, 2, 0, 0,\n",
       "       3, 2, 1, 2, 3, 2, 0, 1, 2, 3, 1, 2, 1, 0, 0, 0, 1, 1, 0, 1, 3, 2,\n",
       "       3, 2, 0, 1, 1, 3, 1, 1, 0, 1, 0, 2, 3, 0, 2, 0, 2, 1, 0, 0, 0, 2,\n",
       "       2, 1, 1, 0, 0, 1, 1, 3, 1, 3, 0, 1, 2, 3, 0, 3, 1, 0, 0, 2, 3, 1,\n",
       "       1, 3, 3, 0, 2, 0, 3, 0, 0, 2, 1, 1, 3, 0, 1, 3, 1, 2, 2, 0, 1, 3,\n",
       "       0, 3, 0, 1, 2, 1, 0, 2, 3, 3, 2, 0, 0, 3, 3, 3, 1, 3, 0, 1, 3, 2,\n",
       "       1, 3, 1, 3, 3, 3, 2, 0, 2, 1, 1, 1, 2, 0, 3, 2, 0, 1, 1, 3, 3, 1,\n",
       "       1, 2, 3, 3, 0, 3, 2, 1, 3, 0, 1, 2, 1, 2, 1, 3, 3, 3, 3, 0, 3, 0,\n",
       "       1, 1, 1, 2, 1, 3, 3, 2, 2, 1, 3, 0, 2, 1, 1, 3, 1, 1, 1, 1, 0, 3,\n",
       "       2, 2, 2, 0, 2, 0, 3, 1, 2, 3, 1, 0, 2, 0, 0, 3, 0, 1, 0, 1, 2, 1,\n",
       "       2, 0, 0, 2, 0, 1, 2, 2, 1, 1, 2, 2, 1, 1, 1, 0, 0, 3, 2, 3, 0, 0,\n",
       "       2, 1, 0, 2, 1, 2, 2, 2, 1, 1, 1, 3, 1, 0, 2, 0, 1, 0, 0, 1, 2, 0,\n",
       "       2, 3, 3, 0, 2, 2, 3, 3, 3, 3, 2, 2, 0, 3, 2, 1, 0, 3, 0, 0, 1, 1,\n",
       "       2, 1, 1, 1, 1, 0, 3, 2, 1, 3, 0, 3, 3, 3, 1, 2, 2, 0, 1, 2, 2, 3,\n",
       "       1, 0, 1, 2, 1, 3, 1, 3, 3, 3, 1, 1, 0, 1, 3, 0, 1, 0, 2, 1, 1, 1,\n",
       "       3, 3, 1, 2, 3, 0, 1, 3, 1, 0, 0, 3, 2, 2, 1, 2, 2, 3, 0, 1, 2, 1,\n",
       "       2, 0, 2, 2, 0, 1, 3, 1, 2, 0, 3, 1, 1, 1, 2, 1, 2, 0, 0, 2, 1, 3,\n",
       "       2, 3, 2, 0, 0, 3, 2, 1, 0, 2, 3, 1, 3, 1, 2, 1, 3, 3, 0, 2, 2, 2,\n",
       "       2, 1, 1, 3, 3, 1, 1, 0, 0, 1, 3, 0, 0, 2, 1, 1, 1, 1, 3, 2, 2, 0,\n",
       "       0, 3, 2, 0, 2, 0, 0, 2, 0, 1, 2, 3, 3, 3, 2, 3, 3, 0, 1, 2, 2, 0,\n",
       "       3, 1, 3, 2, 0, 1, 2, 0, 0, 2, 1, 2, 2, 1, 0, 1, 1, 0, 2, 2, 3, 0,\n",
       "       1, 2, 2, 2, 2, 0, 1, 2, 2, 1, 3, 3, 2, 2, 0, 1, 1, 1, 0, 1, 1, 0,\n",
       "       3, 0, 2, 0, 0, 0, 0, 3, 0, 1, 2, 2, 0, 1, 2, 2, 1, 0, 3, 1, 0, 1,\n",
       "       2, 3, 0, 2, 2, 1, 3, 0, 1, 3, 1, 2, 0, 2, 2, 1, 2, 3, 2, 0, 2, 1,\n",
       "       0, 3, 1, 2, 2, 0, 2, 3, 2, 0, 2, 3, 3, 0, 2, 1, 2, 0], dtype=int32)"
      ]
     },
     "execution_count": 34,
     "metadata": {},
     "output_type": "execute_result"
    }
   ],
   "source": [
    "# Your code here:\n",
    "patients_cluster = KMeans(n_clusters=4)\n",
    "patients_cluster.fit_predict(patient)\n",
    "patient['labels'] = patients_cluster.labels_"
   ]
  },
  {
   "cell_type": "markdown",
   "metadata": {},
   "source": [
    "Attach the labels to the dataframe. Do this by accessing the `labels_` in the `patients_cluster` model and assign them to a new column in `patients` that you will call `labels`."
   ]
  },
  {
   "cell_type": "code",
   "execution_count": 35,
   "metadata": {
    "ExecuteTime": {
     "end_time": "2019-10-22T19:07:55.684297Z",
     "start_time": "2019-10-22T19:07:55.671180Z"
    }
   },
   "outputs": [
    {
     "data": {
      "text/html": [
       "<div>\n",
       "<style scoped>\n",
       "    .dataframe tbody tr th:only-of-type {\n",
       "        vertical-align: middle;\n",
       "    }\n",
       "\n",
       "    .dataframe tbody tr th {\n",
       "        vertical-align: top;\n",
       "    }\n",
       "\n",
       "    .dataframe thead th {\n",
       "        text-align: right;\n",
       "    }\n",
       "</style>\n",
       "<table border=\"1\" class=\"dataframe\">\n",
       "  <thead>\n",
       "    <tr style=\"text-align: right;\">\n",
       "      <th></th>\n",
       "      <th>patient_diabetic</th>\n",
       "      <th>patient_allergic</th>\n",
       "      <th>patient_weight_kg</th>\n",
       "      <th>patient_height_sm</th>\n",
       "      <th>patient_show</th>\n",
       "      <th>is_regular_visit</th>\n",
       "      <th>patient_gender_int</th>\n",
       "      <th>labels</th>\n",
       "    </tr>\n",
       "  </thead>\n",
       "  <tbody>\n",
       "    <tr>\n",
       "      <th>0</th>\n",
       "      <td>0</td>\n",
       "      <td>1</td>\n",
       "      <td>59</td>\n",
       "      <td>176</td>\n",
       "      <td>1</td>\n",
       "      <td>1</td>\n",
       "      <td>0</td>\n",
       "      <td>3</td>\n",
       "    </tr>\n",
       "    <tr>\n",
       "      <th>1</th>\n",
       "      <td>0</td>\n",
       "      <td>1</td>\n",
       "      <td>77</td>\n",
       "      <td>186</td>\n",
       "      <td>1</td>\n",
       "      <td>1</td>\n",
       "      <td>0</td>\n",
       "      <td>3</td>\n",
       "    </tr>\n",
       "    <tr>\n",
       "      <th>2</th>\n",
       "      <td>1</td>\n",
       "      <td>1</td>\n",
       "      <td>90</td>\n",
       "      <td>177</td>\n",
       "      <td>0</td>\n",
       "      <td>0</td>\n",
       "      <td>0</td>\n",
       "      <td>1</td>\n",
       "    </tr>\n",
       "    <tr>\n",
       "      <th>3</th>\n",
       "      <td>1</td>\n",
       "      <td>1</td>\n",
       "      <td>70</td>\n",
       "      <td>150</td>\n",
       "      <td>0</td>\n",
       "      <td>1</td>\n",
       "      <td>1</td>\n",
       "      <td>2</td>\n",
       "    </tr>\n",
       "    <tr>\n",
       "      <th>4</th>\n",
       "      <td>0</td>\n",
       "      <td>1</td>\n",
       "      <td>82</td>\n",
       "      <td>140</td>\n",
       "      <td>0</td>\n",
       "      <td>0</td>\n",
       "      <td>0</td>\n",
       "      <td>0</td>\n",
       "    </tr>\n",
       "  </tbody>\n",
       "</table>\n",
       "</div>"
      ],
      "text/plain": [
       "   patient_diabetic  patient_allergic  patient_weight_kg  patient_height_sm  \\\n",
       "0                 0                 1                 59                176   \n",
       "1                 0                 1                 77                186   \n",
       "2                 1                 1                 90                177   \n",
       "3                 1                 1                 70                150   \n",
       "4                 0                 1                 82                140   \n",
       "\n",
       "   patient_show  is_regular_visit  patient_gender_int  labels  \n",
       "0             1                 1                   0       3  \n",
       "1             1                 1                   0       3  \n",
       "2             0                 0                   0       1  \n",
       "3             0                 1                   1       2  \n",
       "4             0                 0                   0       0  "
      ]
     },
     "execution_count": 35,
     "metadata": {},
     "output_type": "execute_result"
    }
   ],
   "source": [
    "# Your code here:\n",
    "patient.head()"
   ]
  },
  {
   "cell_type": "markdown",
   "metadata": {},
   "source": [
    "Now using a `groupby`, find the mean of every variable in `patients` and group by the `labels` column. This summary will allow us to see how the patients differ between the clusters. Your output should look similar to the image below.\n",
    "\n",
    "![groupby mean](../images/groupby-mean.png)\n",
    "\n",
    "Additionally, add a comment to describe which columns have the largest difference between clusters."
   ]
  },
  {
   "cell_type": "code",
   "execution_count": 36,
   "metadata": {
    "ExecuteTime": {
     "end_time": "2019-10-22T19:09:16.049555Z",
     "start_time": "2019-10-22T19:09:16.032217Z"
    }
   },
   "outputs": [
    {
     "data": {
      "text/html": [
       "<div>\n",
       "<style scoped>\n",
       "    .dataframe tbody tr th:only-of-type {\n",
       "        vertical-align: middle;\n",
       "    }\n",
       "\n",
       "    .dataframe tbody tr th {\n",
       "        vertical-align: top;\n",
       "    }\n",
       "\n",
       "    .dataframe thead th {\n",
       "        text-align: right;\n",
       "    }\n",
       "</style>\n",
       "<table border=\"1\" class=\"dataframe\">\n",
       "  <thead>\n",
       "    <tr style=\"text-align: right;\">\n",
       "      <th></th>\n",
       "      <th>patient_diabetic</th>\n",
       "      <th>patient_allergic</th>\n",
       "      <th>patient_weight_kg</th>\n",
       "      <th>patient_height_sm</th>\n",
       "      <th>patient_show</th>\n",
       "      <th>is_regular_visit</th>\n",
       "      <th>patient_gender_int</th>\n",
       "    </tr>\n",
       "    <tr>\n",
       "      <th>labels</th>\n",
       "      <th></th>\n",
       "      <th></th>\n",
       "      <th></th>\n",
       "      <th></th>\n",
       "      <th></th>\n",
       "      <th></th>\n",
       "      <th></th>\n",
       "    </tr>\n",
       "  </thead>\n",
       "  <tbody>\n",
       "    <tr>\n",
       "      <th>0</th>\n",
       "      <td>0.552511</td>\n",
       "      <td>0.525114</td>\n",
       "      <td>97.557078</td>\n",
       "      <td>153.319635</td>\n",
       "      <td>0.488584</td>\n",
       "      <td>0.502283</td>\n",
       "      <td>0.520548</td>\n",
       "    </tr>\n",
       "    <tr>\n",
       "      <th>1</th>\n",
       "      <td>0.490119</td>\n",
       "      <td>0.490119</td>\n",
       "      <td>94.003953</td>\n",
       "      <td>178.640316</td>\n",
       "      <td>0.505929</td>\n",
       "      <td>0.529644</td>\n",
       "      <td>0.458498</td>\n",
       "    </tr>\n",
       "    <tr>\n",
       "      <th>2</th>\n",
       "      <td>0.506494</td>\n",
       "      <td>0.493506</td>\n",
       "      <td>65.432900</td>\n",
       "      <td>152.354978</td>\n",
       "      <td>0.510823</td>\n",
       "      <td>0.558442</td>\n",
       "      <td>0.554113</td>\n",
       "    </tr>\n",
       "    <tr>\n",
       "      <th>3</th>\n",
       "      <td>0.510460</td>\n",
       "      <td>0.531381</td>\n",
       "      <td>62.832636</td>\n",
       "      <td>176.995816</td>\n",
       "      <td>0.472803</td>\n",
       "      <td>0.497908</td>\n",
       "      <td>0.451883</td>\n",
       "    </tr>\n",
       "  </tbody>\n",
       "</table>\n",
       "</div>"
      ],
      "text/plain": [
       "        patient_diabetic  patient_allergic  patient_weight_kg  \\\n",
       "labels                                                          \n",
       "0               0.552511          0.525114          97.557078   \n",
       "1               0.490119          0.490119          94.003953   \n",
       "2               0.506494          0.493506          65.432900   \n",
       "3               0.510460          0.531381          62.832636   \n",
       "\n",
       "        patient_height_sm  patient_show  is_regular_visit  patient_gender_int  \n",
       "labels                                                                         \n",
       "0              153.319635      0.488584          0.502283            0.520548  \n",
       "1              178.640316      0.505929          0.529644            0.458498  \n",
       "2              152.354978      0.510823          0.558442            0.554113  \n",
       "3              176.995816      0.472803          0.497908            0.451883  "
      ]
     },
     "execution_count": 36,
     "metadata": {},
     "output_type": "execute_result"
    }
   ],
   "source": [
    "# Your code here:\n",
    "patient.groupby('labels').mean()"
   ]
  },
  {
   "cell_type": "code",
   "execution_count": null,
   "metadata": {
    "ExecuteTime": {
     "end_time": "2019-10-22T19:06:18.023635Z",
     "start_time": "2019-10-22T19:06:17.963Z"
    }
   },
   "outputs": [],
   "source": [
    "# Your comment here:\n"
   ]
  },
  {
   "cell_type": "markdown",
   "metadata": {},
   "source": [
    "# Bonus Challenge: Visualize K-Means Clusters\n",
    "\n",
    "How did k-means cluster the data? You can obtain an intuitive view with a scatter plot. Generate a 2-d cluster plot below using `matplotlib`. You need to choose 2 of the features from your cleaned and transformed dataset, and use color to represent the cluster label generated from k-means.\n",
    "\n",
    "If the scatter plot does not make any sense to you, it means the features you chose to visualize are not the right ones. You should be able to see 4 clear clusters with different colors in your visualization that suggests how k-means had clustered your data.\n",
    "\n",
    "![Cluster Visualization](../images/clusters.png)"
   ]
  },
  {
   "cell_type": "code",
   "execution_count": 30,
   "metadata": {
    "ExecuteTime": {
     "end_time": "2019-10-22T19:06:18.131080Z",
     "start_time": "2019-10-22T19:06:18.126117Z"
    }
   },
   "outputs": [],
   "source": [
    "# Your code here:\n"
   ]
  },
  {
   "cell_type": "markdown",
   "metadata": {},
   "source": [
    "Additionally, you can visualize the clusters in 3-D scatter plot. Give it a try below."
   ]
  },
  {
   "cell_type": "code",
   "execution_count": 31,
   "metadata": {
    "ExecuteTime": {
     "end_time": "2019-10-22T19:06:18.215108Z",
     "start_time": "2019-10-22T19:06:18.211043Z"
    }
   },
   "outputs": [],
   "source": [
    "# Your code here:\n"
   ]
  }
 ],
 "metadata": {
  "kernelspec": {
   "display_name": "Python 3",
   "language": "python",
   "name": "python3"
  },
  "language_info": {
   "codemirror_mode": {
    "name": "ipython",
    "version": 3
   },
   "file_extension": ".py",
   "mimetype": "text/x-python",
   "name": "python",
   "nbconvert_exporter": "python",
   "pygments_lexer": "ipython3",
   "version": "3.6.8"
  },
  "toc": {
   "base_numbering": 1,
   "nav_menu": {},
   "number_sections": false,
   "sideBar": true,
   "skip_h1_title": false,
   "title_cell": "Table of Contents",
   "title_sidebar": "Contents",
   "toc_cell": false,
   "toc_position": {},
   "toc_section_display": true,
   "toc_window_display": false
  },
  "varInspector": {
   "cols": {
    "lenName": 16,
    "lenType": 16,
    "lenVar": 40
   },
   "kernels_config": {
    "python": {
     "delete_cmd_postfix": "",
     "delete_cmd_prefix": "del ",
     "library": "var_list.py",
     "varRefreshCmd": "print(var_dic_list())"
    },
    "r": {
     "delete_cmd_postfix": ") ",
     "delete_cmd_prefix": "rm(",
     "library": "var_list.r",
     "varRefreshCmd": "cat(var_dic_list()) "
    }
   },
   "types_to_exclude": [
    "module",
    "function",
    "builtin_function_or_method",
    "instance",
    "_Feature"
   ],
   "window_display": false
  }
 },
 "nbformat": 4,
 "nbformat_minor": 2
}
